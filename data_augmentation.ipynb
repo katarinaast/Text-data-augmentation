{
 "cells": [
  {
   "cell_type": "code",
   "execution_count": null,
   "metadata": {},
   "outputs": [
    {
     "name": "stdout",
     "output_type": "stream",
     "text": [
      "   count  hate_speech_count  offensive_language_count  neither_count  class  \\\n",
      "0      3                  0                         0              3      2   \n",
      "1      3                  0                         3              0      1   \n",
      "2      3                  0                         3              0      1   \n",
      "3      3                  0                         2              1      1   \n",
      "4      6                  0                         6              0      1   \n",
      "\n",
      "                                               tweet  \n",
      "0  !!! RT @mayasolovely: As a woman you shouldn't...  \n",
      "1  !!!!! RT @mleew17: boy dats cold...tyga dwn ba...  \n",
      "2  !!!!!!! RT @UrKindOfBrand Dawg!!!! RT @80sbaby...  \n",
      "3  !!!!!!!!! RT @C_G_Anderson: @viva_based she lo...  \n",
      "4  !!!!!!!!!!!!! RT @ShenikaRoberts: The shit you...  \n"
     ]
    },
    {
     "name": "stderr",
     "output_type": "stream",
     "text": [
      "[nltk_data] Downloading package stopwords to\n",
      "[nltk_data]     C:\\Users\\Kaca\\AppData\\Roaming\\nltk_data...\n",
      "[nltk_data]   Package stopwords is already up-to-date!\n",
      "[nltk_data] Downloading package punkt to\n",
      "[nltk_data]     C:\\Users\\Kaca\\AppData\\Roaming\\nltk_data...\n",
      "[nltk_data]   Package punkt is already up-to-date!\n",
      "[nltk_data] Downloading package wordnet to\n",
      "[nltk_data]     C:\\Users\\Kaca\\AppData\\Roaming\\nltk_data...\n",
      "[nltk_data]   Package wordnet is already up-to-date!\n",
      "[nltk_data] Downloading package punkt_tab to\n",
      "[nltk_data]     C:\\Users\\Kaca\\AppData\\Roaming\\nltk_data...\n",
      "[nltk_data]   Package punkt_tab is already up-to-date!\n",
      "[nltk_data] Downloading package omw-1.4 to\n",
      "[nltk_data]     C:\\Users\\Kaca\\AppData\\Roaming\\nltk_data...\n",
      "[nltk_data]   Package omw-1.4 is already up-to-date!\n"
     ]
    }
   ],
   "source": [
    "import pandas as pd\n",
    "import numpy as np\n",
    "import matplotlib.pyplot as plt\n",
    "import seaborn as sns\n",
    "import re\n",
    "import nltk\n",
    "import random\n",
    "import string\n",
    "import unicodedata\n",
    "from bs4 import BeautifulSoup\n",
    "from nltk.corpus import wordnet\n",
    "from nltk.corpus import stopwords\n",
    "from nltk.stem import WordNetLemmatizer\n",
    "\n",
    "from sklearn.model_selection import train_test_split\n",
    "from sklearn.feature_extraction.text import TfidfVectorizer\n",
    "from sklearn.linear_model import LogisticRegression\n",
    "from sklearn.svm import SVC\n",
    "from sklearn.naive_bayes import MultinomialNB\n",
    "\n",
    "from tensorflow.keras.preprocessing.text import Tokenizer\n",
    "from tensorflow.keras.preprocessing.sequence import pad_sequences\n",
    "from tensorflow.keras.models import Sequential\n",
    "from tensorflow.keras.layers import Embedding, LSTM, Dense, Conv1D, MaxPooling1D, Flatten\n",
    "\n",
    "nltk.download('stopwords')\n",
    "nltk.download('punkt')\n",
    "nltk.download('wordnet')\n",
    "nltk.download('punkt_tab')\n",
    "nltk.download('omw-1.4')\n",
    "\n",
    "df = pd.read_csv('train.csv')\n",
    "\n",
    "print(df.head())\n"
   ]
  },
  {
   "cell_type": "markdown",
   "metadata": {},
   "source": [
    "#### Prikaz distribucije podataka"
   ]
  },
  {
   "cell_type": "code",
   "execution_count": null,
   "metadata": {},
   "outputs": [],
   "source": [
    "df['label'] = df['class'].apply(lambda x: 1 if x == 1 else 0)\n",
    "df = df[['tweet', 'label']]\n",
    "def plot_distribution(data, column):\n",
    "    class_counts = data[column].value_counts()\n",
    "    sns.barplot(x=class_counts.index, y=class_counts.values)\n",
    "    plt.title('Distribucija klasa')\n",
    "    plt.xlabel('Klasa (0 = Nije govor mržnje, 1 = Govor mržnje)')\n",
    "    plt.ylabel('Broj primera')\n",
    "    plt.show()"
   ]
  },
  {
   "cell_type": "code",
   "execution_count": 3,
   "metadata": {},
   "outputs": [
    {
     "data": {
      "image/png": "[encoded data removed]",
      "text/plain": [
       "<Figure size 640x480 with 1 Axes>"
      ]
     },
     "metadata": {},
     "output_type": "display_data"
    }
   ],
   "source": [
    "plot_distribution(df, 'label')"
   ]
  },
  {
   "cell_type": "markdown",
   "metadata": {},
   "source": [
    "#### Preprocesiranje teksta"
   ]
  },
  {
   "cell_type": "code",
   "execution_count": null,
   "metadata": {},
   "outputs": [],
   "source": [
    "def preprocess_text(df, text_column):\n",
    "    \"\"\"\n",
    "    Funkcija za predobradu teksta.\n",
    "    \n",
    "    Argumenti:\n",
    "    - df: Pandas DataFrame koji sadrži kolonu sa tekstom.\n",
    "    - text_column: Ime kolone koja sadrži tekstualne podatke.\n",
    "    \n",
    "    Vraća:\n",
    "    - df: Pandas DataFrame sa novom kolonom 'clean_text' koja sadrži predobrađen tekst.\n",
    "    \"\"\"\n",
    "    df = df.copy()\n",
    "    \n",
    "    # Uklanjanje URL-ova i email adresa\n",
    "    df['clean_tweet'] = df[text_column].apply(lambda x: re.sub(r'http\\S+|www.\\S+|mailto:\\S+', '', x))\n",
    "    \n",
    "    # Uklanjanje HTML tagova\n",
    "    df['clean_tweet'] = df['clean_tweet'].apply(lambda x: BeautifulSoup(x, \"html.parser\").get_text())\n",
    "    \n",
    "    # Uklanjanje emotikona i specijalnih karaktera\n",
    "    def remove_emojis(text):\n",
    "        emoji_pattern = re.compile(\"[\"\n",
    "                                   u\"\\U0001F600-\\U0001F64F\"  # emotikoni\n",
    "                                   u\"\\U0001F300-\\U0001F5FF\"  # simobli i ikone\n",
    "                                   u\"\\U0001F680-\\U0001F6FF\"  # transport i simobli\n",
    "                                   u\"\\U0001F1E0-\\U0001F1FF\"  # zastave\n",
    "                                   \"]+\", flags=re.UNICODE)\n",
    "        return emoji_pattern.sub(r'', text)\n",
    "\n",
    "    df['clean_tweet'] = df['clean_tweet'].apply(remove_emojis)\n",
    "    \n",
    "    # Uklanjanje specijalnih karaktera i interpunkcije\n",
    "    df['clean_tweet'] = df['clean_tweet'].apply(lambda x: re.sub(r'[^A-Za-zšđčćžŠĐČĆŽ ]+', ' ', x))\n",
    "    \n",
    "    # Pretvaranje u mala slova\n",
    "    df['clean_tweet'] = df['clean_tweet'].str.lower()\n",
    "    \n",
    "    # Uklanjanje dijakritika\n",
    "    def remove_diacritics(text):\n",
    "        text = unicodedata.normalize('NFKD', text)\n",
    "        text = ''.join([c for c in text if not unicodedata.combining(c)])\n",
    "        return text\n",
    "\n",
    "    df['clean_tweet'] = df['clean_tweet'].apply(remove_diacritics)\n",
    "    \n",
    "    # Uklanjanje višestrukih razmaka\n",
    "    df['clean_tweet'] = df['clean_tweet'].apply(lambda x: re.sub('\\s+', ' ', x).strip())\n",
    "    \n",
    "    # Tokenizacija\n",
    "    df['tokens'] = df['clean_tweet'].apply(nltk.word_tokenize)\n",
    "    \n",
    "    # Uklanjanje stop-reči\n",
    "    stop_words = set(stopwords.words('english'))  # Ako imaš stop-reči za srpski, zameni ovde\n",
    "    df['tokens'] = df['tokens'].apply(lambda x: [word for word in x if word not in stop_words])\n",
    "    \n",
    "    # Lematizacija\n",
    "    lemmatizer = WordNetLemmatizer()\n",
    "    df['tokens'] = df['tokens'].apply(lambda x: [lemmatizer.lemmatize(word) for word in x])\n",
    "    \n",
    "    # Spajanje tokena nazad u string\n",
    "    df['clean_tweet'] = df['tokens'].apply(lambda x: ' '.join(x))\n",
    "    \n",
    "    # Uklanjanje nepotrebnih kolona\n",
    "    df = df.drop(columns=['tokens'])\n",
    "    \n",
    "    return df\n"
   ]
  },
  {
   "cell_type": "code",
   "execution_count": 5,
   "metadata": {},
   "outputs": [
    {
     "name": "stderr",
     "output_type": "stream",
     "text": [
      "C:\\Users\\Kaca\\AppData\\Local\\Temp\\ipykernel_8152\\2996977020.py:19: MarkupResemblesLocatorWarning: The input looks more like a filename than markup. You may want to open this file and pass the filehandle into Beautiful Soup.\n",
      "  df['clean_tweet'] = df['clean_tweet'].apply(lambda x: BeautifulSoup(x, \"html.parser\").get_text())\n"
     ]
    },
    {
     "name": "stdout",
     "output_type": "stream",
     "text": [
      "                                               tweet  label  \\\n",
      "0  !!! RT @mayasolovely: As a woman you shouldn't...      0   \n",
      "1  !!!!! RT @mleew17: boy dats cold...tyga dwn ba...      1   \n",
      "2  !!!!!!! RT @UrKindOfBrand Dawg!!!! RT @80sbaby...      1   \n",
      "3  !!!!!!!!! RT @C_G_Anderson: @viva_based she lo...      1   \n",
      "4  !!!!!!!!!!!!! RT @ShenikaRoberts: The shit you...      1   \n",
      "\n",
      "                                         clean_tweet  \n",
      "0  rt mayasolovely woman complain cleaning house ...  \n",
      "1  rt mleew boy dat cold tyga dwn bad cuffin dat ...  \n",
      "2  rt urkindofbrand dawg rt sbaby life ever fuck ...  \n",
      "3        rt c g anderson viva based look like tranny  \n",
      "4  rt shenikaroberts shit hear might true might f...  \n"
     ]
    }
   ],
   "source": [
    "data = preprocess_text(df, 'tweet')\n",
    "\n",
    "print(data.head())"
   ]
  },
  {
   "cell_type": "markdown",
   "metadata": {},
   "source": [
    "#### Definisanje metoda mašinskog učenja"
   ]
  },
  {
   "cell_type": "code",
   "execution_count": null,
   "metadata": {},
   "outputs": [],
   "source": [
    "def train_logistic_regression(X_train, y_train, X_test, y_test):\n",
    "    print(\"Logistička regresija: \")\n",
    "    model = LogisticRegression(max_iter=1000)\n",
    "    model.fit(X_train, y_train)\n",
    "    y_pred = model.predict(X_test)\n",
    "    return model\n",
    "\n",
    "def train_svm(X_train, y_train, X_test, y_test):\n",
    "    print(\"SVM: \")\n",
    "    model = SVC()\n",
    "    model.fit(X_train, y_train)\n",
    "    y_pred = model.predict(X_test)\n",
    "    return model\n",
    "\n",
    "def train_naive_bayes(X_train, y_train, X_test, y_test):\n",
    "    print(\"Naive Bayes: \")\n",
    "    model = MultinomialNB()\n",
    "    model.fit(X_train, y_train)\n",
    "    y_pred = model.predict(X_test)\n",
    "    return model\n"
   ]
  },
  {
   "cell_type": "markdown",
   "metadata": {},
   "source": [
    "#### Definisanje neuronskih mreža"
   ]
  },
  {
   "cell_type": "code",
   "execution_count": null,
   "metadata": {},
   "outputs": [],
   "source": [
    "def prepare_tokenizer(texts, num_words=5000):\n",
    "    tokenizer = Tokenizer(num_words=num_words)\n",
    "    tokenizer.fit_on_texts(texts)\n",
    "    return tokenizer\n",
    "\n",
    "def tokenize_and_pad(tokenizer, texts, maxlen=100):\n",
    "    sequences = tokenizer.texts_to_sequences(texts)\n",
    "    padded = pad_sequences(sequences, maxlen=maxlen)\n",
    "    return padded\n",
    "\n",
    "def train_lstm(X_train, y_train, X_test, y_test, vocab_size, maxlen=100):\n",
    "    print(\"LSTM: \")\n",
    "    model = Sequential()\n",
    "    model.add(Embedding(input_dim=vocab_size, output_dim=128, input_length=maxlen))\n",
    "    model.add(LSTM(units=128, dropout=0.2, recurrent_dropout=0.2))\n",
    "    model.add(Dense(units=1, activation='sigmoid'))\n",
    "    model.compile(loss='binary_crossentropy', optimizer='adam', metrics=['accuracy'])\n",
    "    model.fit(X_train, y_train, validation_data=(X_test, y_test), epochs=5, batch_size=64)\n",
    "    loss, accuracy = model.evaluate(X_test, y_test)\n",
    "    print(f'LSTM Test Accuracy: {accuracy}')\n",
    "    \n",
    "    return model\n",
    "\n",
    "def train_cnn(X_train, y_train, X_test, y_test, vocab_size, maxlen=100):\n",
    "    print(\"CNN: \")\n",
    "    model = Sequential()\n",
    "    model.add(Embedding(input_dim=vocab_size, output_dim=128, input_length=maxlen))\n",
    "    model.add(Conv1D(filters=128, kernel_size=5, activation='relu'))\n",
    "    model.add(MaxPooling1D(pool_size=2))\n",
    "    model.add(Flatten())\n",
    "    model.add(Dense(units=1, activation='sigmoid'))\n",
    "    model.compile(loss='binary_crossentropy', optimizer='adam', metrics=['accuracy'])\n",
    "    model.fit(X_train, y_train, validation_data=(X_test, y_test), epochs=5, batch_size=64)\n",
    "    loss, accuracy = model.evaluate(X_test, y_test)\n",
    "    print(f'CNN Test Accuracy: {accuracy}')\n",
    "    return model\n"
   ]
  },
  {
   "cell_type": "code",
   "execution_count": 8,
   "metadata": {},
   "outputs": [],
   "source": [
    "from sklearn.metrics import classification_report, confusion_matrix, accuracy_score\n",
    "\n",
    "def evaluate_model(model, X_test, y_test, model_type='sklearn', tokenizer=None, maxlen=100):\n",
    "    \"\"\"\n",
    "    Evaluira model i prikazuje metrike performansi.\n",
    "    \n",
    "    Argumenti:\n",
    "    - model: istrenirani model\n",
    "    - X_test: test podaci (tekstualni ili vektorski)\n",
    "    - y_test: stvarne labela\n",
    "    - model_type: 'sklearn', 'keras', ili 'bert'\n",
    "    - tokenizer: Tokenizer objekat (potreban za neuronske mreže)\n",
    "    - maxlen: maksimalna dužina sekvenci (za neuronske mreže)\n",
    "    \"\"\"\n",
    "    if model_type == 'sklearn':\n",
    "        y_pred = model.predict(X_test)\n",
    "    elif model_type == 'keras':\n",
    "        y_pred = (model.predict(X_test) > 0.5).astype(\"int32\")\n",
    "    elif model_type == 'bert':\n",
    "        y_pred = model.predict(X_test).logits\n",
    "        y_pred = np.argmax(y_pred, axis=1)\n",
    "    else:\n",
    "        raise ValueError(\"Nepoznat tip modela.\")\n",
    "    \n",
    "    print(\"Izveštaj o klasifikaciji:\")\n",
    "    print(classification_report(y_test, y_pred))\n",
    "    print(\"Matrica konfuzije:\")\n",
    "    print(confusion_matrix(y_test, y_pred))\n"
   ]
  },
  {
   "cell_type": "markdown",
   "metadata": {},
   "source": [
    "### Definisanje funkcija za primenu metoda"
   ]
  },
  {
   "cell_type": "code",
   "execution_count": 9,
   "metadata": {},
   "outputs": [],
   "source": [
    "def create_vectorizer(X_train, X_test):\n",
    "    vectorizer = TfidfVectorizer(max_features=5000)\n",
    "    X_train_vec = vectorizer.fit_transform(X_train)\n",
    "    X_test_vec = vectorizer.transform(X_test)\n",
    "\n",
    "    return X_train_vec, X_test_vec\n",
    "\n",
    "def create_tokenizer(X_train, X_test):\n",
    "    tokenizer = prepare_tokenizer(X_train, num_words=5000)\n",
    "    X_train_seq = tokenize_and_pad(tokenizer, X_train)\n",
    "    X_test_seq = tokenize_and_pad(tokenizer, X_test)\n",
    "    vocab_size = len(tokenizer.word_index) + 1  \n",
    "\n",
    "    return X_train_seq, X_test_seq, vocab_size"
   ]
  },
  {
   "cell_type": "code",
   "execution_count": 10,
   "metadata": {},
   "outputs": [],
   "source": [
    "def train_classification_models(X_train_vec, y_train, X_test_vec, y_test):\n",
    "    lr_model = train_logistic_regression(X_train_vec, y_train, X_test_vec, y_test)\n",
    "    evaluate_model(lr_model, X_test_vec, y_test, model_type='sklearn')\n",
    "\n",
    "    svm_model = train_svm(X_train_vec, y_train, X_test_vec, y_test)\n",
    "    evaluate_model(svm_model, X_test_vec, y_test, model_type='sklearn')\n",
    "\n",
    "    nb_model = train_naive_bayes(X_train_vec, y_train, X_test_vec, y_test)\n",
    "    evaluate_model(nb_model, X_test_vec, y_test, model_type='sklearn')\n",
    "\n",
    "def train_neural_networks(X_train_seq, y_train, X_test_seq, y_test, vocab_size):\n",
    "    lstm_model = train_lstm(X_train_seq, y_train, X_test_seq, y_test, vocab_size)\n",
    "    evaluate_model(lstm_model, X_test_seq, y_test, model_type='keras')\n",
    "\n",
    "    cnn_model = train_cnn(X_train_seq, y_train, X_test_seq, y_test, vocab_size)\n",
    "    evaluate_model(cnn_model, X_test_seq, y_test, model_type='keras')"
   ]
  },
  {
   "cell_type": "code",
   "execution_count": 11,
   "metadata": {},
   "outputs": [],
   "source": [
    "def run(X, y):\n",
    "    X_train, X_test, y_train, y_test = train_test_split(X, y, test_size=0.2, random_state=42)\n",
    "    X_train_vec, X_test_vec = create_vectorizer(X_train, X_test)\n",
    "    X_train_seq, X_test_seq, vocab_size = create_tokenizer(X_train, X_test)\n",
    "\n",
    "    train_classification_models(X_train_vec, y_train, X_test_vec, y_test)\n",
    "    train_neural_networks(X_train_seq, y_train, X_test_seq, y_test, vocab_size)"
   ]
  },
  {
   "cell_type": "markdown",
   "metadata": {},
   "source": [
    "### Primena algoritama nad originalnim podacima"
   ]
  },
  {
   "cell_type": "code",
   "execution_count": 12,
   "metadata": {},
   "outputs": [
    {
     "name": "stdout",
     "output_type": "stream",
     "text": [
      "Logistička regresija: \n",
      "Izveštaj o klasifikaciji:\n",
      "              precision    recall  f1-score   support\n",
      "\n",
      "           0       0.81      0.72      0.76      1125\n",
      "           1       0.92      0.95      0.93      3832\n",
      "\n",
      "    accuracy                           0.90      4957\n",
      "   macro avg       0.86      0.84      0.85      4957\n",
      "weighted avg       0.89      0.90      0.90      4957\n",
      "\n",
      "Matrica konfuzije:\n",
      "[[ 814  311]\n",
      " [ 197 3635]]\n",
      "SVM: \n",
      "Izveštaj o klasifikaciji:\n",
      "              precision    recall  f1-score   support\n",
      "\n",
      "           0       0.80      0.75      0.78      1125\n",
      "           1       0.93      0.95      0.94      3832\n",
      "\n",
      "    accuracy                           0.90      4957\n",
      "   macro avg       0.87      0.85      0.86      4957\n",
      "weighted avg       0.90      0.90      0.90      4957\n",
      "\n",
      "Matrica konfuzije:\n",
      "[[ 845  280]\n",
      " [ 205 3627]]\n",
      "Naive Bayes: \n",
      "Izveštaj o klasifikaciji:\n",
      "              precision    recall  f1-score   support\n",
      "\n",
      "           0       0.87      0.37      0.52      1125\n",
      "           1       0.84      0.98      0.91      3832\n",
      "\n",
      "    accuracy                           0.84      4957\n",
      "   macro avg       0.86      0.68      0.71      4957\n",
      "weighted avg       0.85      0.84      0.82      4957\n",
      "\n",
      "Matrica konfuzije:\n",
      "[[ 415  710]\n",
      " [  62 3770]]\n",
      "LSTM: \n",
      "Epoch 1/5\n"
     ]
    },
    {
     "name": "stderr",
     "output_type": "stream",
     "text": [
      "c:\\Users\\Kaca\\AppData\\Local\\Programs\\Python\\Python311\\Lib\\site-packages\\keras\\src\\layers\\core\\embedding.py:90: UserWarning: Argument `input_length` is deprecated. Just remove it.\n",
      "  warnings.warn(\n"
     ]
    },
    {
     "name": "stdout",
     "output_type": "stream",
     "text": [
      "\u001b[1m310/310\u001b[0m \u001b[32m━━━━━━━━━━━━━━━━━━━━\u001b[0m\u001b[37m\u001b[0m \u001b[1m51s\u001b[0m 154ms/step - accuracy: 0.8365 - loss: 0.3830 - val_accuracy: 0.9080 - val_loss: 0.2445\n",
      "Epoch 2/5\n",
      "\u001b[1m310/310\u001b[0m \u001b[32m━━━━━━━━━━━━━━━━━━━━\u001b[0m\u001b[37m\u001b[0m \u001b[1m48s\u001b[0m 155ms/step - accuracy: 0.9286 - loss: 0.2015 - val_accuracy: 0.9056 - val_loss: 0.2485\n",
      "Epoch 3/5\n",
      "\u001b[1m310/310\u001b[0m \u001b[32m━━━━━━━━━━━━━━━━━━━━\u001b[0m\u001b[37m\u001b[0m \u001b[1m50s\u001b[0m 161ms/step - accuracy: 0.9401 - loss: 0.1800 - val_accuracy: 0.9001 - val_loss: 0.2647\n",
      "Epoch 4/5\n",
      "\u001b[1m310/310\u001b[0m \u001b[32m━━━━━━━━━━━━━━━━━━━━\u001b[0m\u001b[37m\u001b[0m \u001b[1m50s\u001b[0m 161ms/step - accuracy: 0.9482 - loss: 0.1529 - val_accuracy: 0.8987 - val_loss: 0.2954\n",
      "Epoch 5/5\n",
      "\u001b[1m310/310\u001b[0m \u001b[32m━━━━━━━━━━━━━━━━━━━━\u001b[0m\u001b[37m\u001b[0m \u001b[1m50s\u001b[0m 160ms/step - accuracy: 0.9551 - loss: 0.1312 - val_accuracy: 0.8903 - val_loss: 0.3390\n",
      "\u001b[1m155/155\u001b[0m \u001b[32m━━━━━━━━━━━━━━━━━━━━\u001b[0m\u001b[37m\u001b[0m \u001b[1m5s\u001b[0m 31ms/step - accuracy: 0.8923 - loss: 0.3291\n",
      "LSTM Test Accuracy: 0.8902562260627747\n",
      "\u001b[1m155/155\u001b[0m \u001b[32m━━━━━━━━━━━━━━━━━━━━\u001b[0m\u001b[37m\u001b[0m \u001b[1m5s\u001b[0m 32ms/step\n",
      "Izveštaj o klasifikaciji:\n",
      "              precision    recall  f1-score   support\n",
      "\n",
      "           0       0.78      0.72      0.75      1125\n",
      "           1       0.92      0.94      0.93      3832\n",
      "\n",
      "    accuracy                           0.89      4957\n",
      "   macro avg       0.85      0.83      0.84      4957\n",
      "weighted avg       0.89      0.89      0.89      4957\n",
      "\n",
      "Matrica konfuzije:\n",
      "[[ 812  313]\n",
      " [ 231 3601]]\n",
      "CNN: \n",
      "Epoch 1/5\n"
     ]
    },
    {
     "name": "stderr",
     "output_type": "stream",
     "text": [
      "c:\\Users\\Kaca\\AppData\\Local\\Programs\\Python\\Python311\\Lib\\site-packages\\keras\\src\\layers\\core\\embedding.py:90: UserWarning: Argument `input_length` is deprecated. Just remove it.\n",
      "  warnings.warn(\n"
     ]
    },
    {
     "name": "stdout",
     "output_type": "stream",
     "text": [
      "\u001b[1m310/310\u001b[0m \u001b[32m━━━━━━━━━━━━━━━━━━━━\u001b[0m\u001b[37m\u001b[0m \u001b[1m20s\u001b[0m 59ms/step - accuracy: 0.8298 - loss: 0.3970 - val_accuracy: 0.9042 - val_loss: 0.2574\n",
      "Epoch 2/5\n",
      "\u001b[1m310/310\u001b[0m \u001b[32m━━━━━━━━━━━━━━━━━━━━\u001b[0m\u001b[37m\u001b[0m \u001b[1m18s\u001b[0m 58ms/step - accuracy: 0.9316 - loss: 0.2045 - val_accuracy: 0.8971 - val_loss: 0.2661\n",
      "Epoch 3/5\n",
      "\u001b[1m310/310\u001b[0m \u001b[32m━━━━━━━━━━━━━━━━━━━━\u001b[0m\u001b[37m\u001b[0m \u001b[1m18s\u001b[0m 58ms/step - accuracy: 0.9504 - loss: 0.1517 - val_accuracy: 0.8901 - val_loss: 0.3178\n",
      "Epoch 4/5\n",
      "\u001b[1m310/310\u001b[0m \u001b[32m━━━━━━━━━━━━━━━━━━━━\u001b[0m\u001b[37m\u001b[0m \u001b[1m18s\u001b[0m 59ms/step - accuracy: 0.9733 - loss: 0.0840 - val_accuracy: 0.8786 - val_loss: 0.4070\n",
      "Epoch 5/5\n",
      "\u001b[1m310/310\u001b[0m \u001b[32m━━━━━━━━━━━━━━━━━━━━\u001b[0m\u001b[37m\u001b[0m \u001b[1m18s\u001b[0m 59ms/step - accuracy: 0.9830 - loss: 0.0494 - val_accuracy: 0.8701 - val_loss: 0.4993\n",
      "\u001b[1m155/155\u001b[0m \u001b[32m━━━━━━━━━━━━━━━━━━━━\u001b[0m\u001b[37m\u001b[0m \u001b[1m1s\u001b[0m 5ms/step - accuracy: 0.8715 - loss: 0.4903\n",
      "CNN Test Accuracy: 0.8700827360153198\n",
      "\u001b[1m155/155\u001b[0m \u001b[32m━━━━━━━━━━━━━━━━━━━━\u001b[0m\u001b[37m\u001b[0m \u001b[1m1s\u001b[0m 6ms/step\n",
      "Izveštaj o klasifikaciji:\n",
      "              precision    recall  f1-score   support\n",
      "\n",
      "           0       0.75      0.64      0.69      1125\n",
      "           1       0.90      0.94      0.92      3832\n",
      "\n",
      "    accuracy                           0.87      4957\n",
      "   macro avg       0.82      0.79      0.80      4957\n",
      "weighted avg       0.87      0.87      0.87      4957\n",
      "\n",
      "Matrica konfuzije:\n",
      "[[ 721  404]\n",
      " [ 240 3592]]\n"
     ]
    }
   ],
   "source": [
    "X = data['clean_tweet']\n",
    "y = data['label']\n",
    "\n",
    "run(X, y)"
   ]
  },
  {
   "cell_type": "markdown",
   "metadata": {},
   "source": [
    "### Augmentacija podataka"
   ]
  },
  {
   "cell_type": "markdown",
   "metadata": {},
   "source": [
    "### Definisanje metoda augmentacije podataka"
   ]
  },
  {
   "cell_type": "markdown",
   "metadata": {},
   "source": [
    "#### Metode augmentacije na nivou karaktera"
   ]
  },
  {
   "cell_type": "code",
   "execution_count": 14,
   "metadata": {},
   "outputs": [],
   "source": [
    "def simulate_spelling_errors(text, error_prob=0.1):\n",
    "    \"\"\"\n",
    "    Simulira pravopisne greške u tekstu.\n",
    "    \n",
    "    Argumenti:\n",
    "    - text: Originalni tekst.\n",
    "    - error_prob: Verovatnoća da će svaki karakter biti izmenjen.\n",
    "    \n",
    "    Vraća:\n",
    "    - Tekst sa simuliranim pravopisnim greškama.\n",
    "    \"\"\"\n",
    "    letters = 'abcdefghijklmnopqrstuvwxyz'\n",
    "    result = ''\n",
    "    for c in text:\n",
    "        if c.lower() in letters and random.random() < error_prob:\n",
    "            result += random.choice(letters)\n",
    "        else:\n",
    "            result += c\n",
    "    return result\n"
   ]
  },
  {
   "cell_type": "code",
   "execution_count": 15,
   "metadata": {},
   "outputs": [],
   "source": [
    "def keyboard_augmenter(text, error_prob=0.1):\n",
    "    \"\"\"\n",
    "    Simulira greške u kucanju na osnovu rasporeda tastature.\n",
    "    \n",
    "    Argumenti:\n",
    "    - text: Originalni tekst.\n",
    "    - error_prob: Verovatnoća da će svaki karakter biti zamenjen.\n",
    "    \n",
    "    Vraća:\n",
    "    - Tekst sa simuliranim greškama u kucanju.\n",
    "    \"\"\"\n",
    "    keyboard_neighbors = {\n",
    "        'a': 'qwsz',\n",
    "        'b': 'vghn',\n",
    "        'c': 'xdfv',\n",
    "        'd': 'ersfcx',\n",
    "        'e': 'wsdfr',\n",
    "        'f': 'rtgdvc',\n",
    "        'g': 'tyfhvb',\n",
    "        'h': 'yugjbn',\n",
    "        'i': 'ujklo',\n",
    "        'j': 'uikhmn',\n",
    "        'k': 'ijolm,',\n",
    "        'l': 'kop;.',\n",
    "        'm': 'njk,',\n",
    "        'n': 'bhjm',\n",
    "        'o': 'iklp',\n",
    "        'p': 'ol;',\n",
    "        'q': 'wa',\n",
    "        'r': 'edft',\n",
    "        's': 'wedxz',\n",
    "        't': 'rfgy',\n",
    "        'u': 'yhji',\n",
    "        'v': 'cfgb',\n",
    "        'w': 'qase',\n",
    "        'x': 'zsdc',\n",
    "        'y': 'tghu',\n",
    "        'z': 'asx'\n",
    "    }\n",
    "    result = ''\n",
    "    for c in text:\n",
    "        lower_c = c.lower()\n",
    "        if lower_c in keyboard_neighbors and random.random() < error_prob:\n",
    "            result += random.choice(keyboard_neighbors[lower_c])\n",
    "        else:\n",
    "            result += c\n",
    "    return result\n"
   ]
  },
  {
   "cell_type": "code",
   "execution_count": 16,
   "metadata": {},
   "outputs": [],
   "source": [
    "def ocr_simulation(text, error_prob=0.05):\n",
    "    \"\"\"\n",
    "    Simulira OCR greške u tekstu.\n",
    "    \n",
    "    Argumenti:\n",
    "    - text: Originalni tekst.\n",
    "    - error_prob: Verovatnoća da će svaki karakter biti zamenjen.\n",
    "    \n",
    "    Vraća:\n",
    "    - Tekst sa simuliranim OCR greškama.\n",
    "    \"\"\"\n",
    "    ocr_errors = {\n",
    "        '0': ['O', 'o'],\n",
    "        '1': ['I', 'l'],\n",
    "        'l': ['1', 'I'],\n",
    "        'O': ['0', 'o'],\n",
    "        'o': ['0', 'O'],\n",
    "        'I': ['1', 'l']\n",
    "    }\n",
    "    result = ''\n",
    "    for c in text:\n",
    "        if c in ocr_errors and random.random() < error_prob:\n",
    "            result += random.choice(ocr_errors[c])\n",
    "        else:\n",
    "            result += c\n",
    "    return result\n"
   ]
  },
  {
   "cell_type": "code",
   "execution_count": 17,
   "metadata": {},
   "outputs": [],
   "source": [
    "def random_character_augmentation(text, aug_prob=0.1):\n",
    "    \"\"\"\n",
    "    Nasumična augmentacija karaktera u tekstu.\n",
    "    \n",
    "    Argumenti:\n",
    "    - text: Originalni tekst.\n",
    "    - aug_prob: Verovatnoća da će svaka operacija biti primenjena na karakter.\n",
    "    \n",
    "    Vraća:\n",
    "    - Augmentirani tekst.\n",
    "    \"\"\"\n",
    "    functions = [delete_random_char, substitute_random_char, swap_random_chars, insert_random_char]\n",
    "    augmented_text = text\n",
    "    for func in functions:\n",
    "        augmented_text = func(augmented_text, aug_prob)\n",
    "    return augmented_text\n",
    "\n",
    "def delete_random_char(text, aug_prob):\n",
    "    result = ''\n",
    "    for c in text:\n",
    "        if random.random() > aug_prob:\n",
    "            result += c\n",
    "    return result\n",
    "\n",
    "def substitute_random_char(text, aug_prob):\n",
    "    letters = string.ascii_letters\n",
    "    result = ''\n",
    "    for c in text:\n",
    "        if random.random() < aug_prob:\n",
    "            result += random.choice(letters)\n",
    "        else:\n",
    "            result += c\n",
    "    return result\n",
    "\n",
    "def swap_random_chars(text, aug_prob):\n",
    "    text = list(text)\n",
    "    for i in range(len(text)-1):\n",
    "        if random.random() < aug_prob:\n",
    "            text[i], text[i+1] = text[i+1], text[i]\n",
    "    return ''.join(text)\n",
    "\n",
    "def insert_random_char(text, aug_prob):\n",
    "    result = ''\n",
    "    letters = string.ascii_letters\n",
    "    for c in text:\n",
    "        result += c\n",
    "        if random.random() < aug_prob:\n",
    "            result += random.choice(letters)\n",
    "    return result\n"
   ]
  },
  {
   "cell_type": "markdown",
   "metadata": {},
   "source": [
    "#### Metode augmentacije na nivou reči"
   ]
  },
  {
   "cell_type": "code",
   "execution_count": 18,
   "metadata": {},
   "outputs": [],
   "source": [
    "def synonym_replacement(text, n=2):\n",
    "    \"\"\"\n",
    "    Zamenjuje n reči njihovim sinonimima.\n",
    "    \n",
    "    Argumenti:\n",
    "    - text: Originalni tekst.\n",
    "    - n: Broj reči koje će biti zamenjene.\n",
    "    \n",
    "    Vraća:\n",
    "    - Tekst sa zamenjenim sinonimima.\n",
    "    \"\"\"\n",
    "    words = text.split()\n",
    "    new_words = words.copy()\n",
    "    random_word_list = list(set(words))\n",
    "    random.shuffle(random_word_list)\n",
    "    num_replaced = 0\n",
    "    for random_word in random_word_list:\n",
    "        synonyms = get_synonyms(random_word)\n",
    "        if len(synonyms) >= 1:\n",
    "            synonym = random.choice(synonyms)\n",
    "            new_words = [synonym if word == random_word else word for word in new_words]\n",
    "            num_replaced += 1\n",
    "        if num_replaced >= n:\n",
    "            break\n",
    "    augmented_text = ' '.join(new_words)\n",
    "    return augmented_text\n",
    "\n",
    "def get_synonyms(word):\n",
    "    synonyms = set()\n",
    "    for syn in wordnet.synsets(word):\n",
    "        for lem in syn.lemmas():\n",
    "            synonym = lem.name().replace('_', ' ').lower()\n",
    "            if synonym != word:\n",
    "                synonyms.add(synonym)\n",
    "    return list(synonyms)\n"
   ]
  },
  {
   "cell_type": "code",
   "execution_count": 19,
   "metadata": {},
   "outputs": [],
   "source": [
    "def antonym_replacement(text, n=2):\n",
    "    \"\"\"\n",
    "    Zamenjuje n reči njihovim antonimima.\n",
    "    \n",
    "    Argumenti:\n",
    "    - text: Originalni tekst.\n",
    "    - n: Broj reči koje će biti zamenjene.\n",
    "    \n",
    "    Vraća:\n",
    "    - Tekst sa zamenjenim antonimima.\n",
    "    \"\"\"\n",
    "    words = text.split()\n",
    "    new_words = words.copy()\n",
    "    random_word_list = list(set(words))\n",
    "    random.shuffle(random_word_list)\n",
    "    num_replaced = 0\n",
    "    for random_word in random_word_list:\n",
    "        antonyms = get_antonyms(random_word)\n",
    "        if len(antonyms) >= 1:\n",
    "            antonym = random.choice(antonyms)\n",
    "            new_words = [antonym if word == random_word else word for word in new_words]\n",
    "            num_replaced += 1\n",
    "        if num_replaced >= n:\n",
    "            break\n",
    "    augmented_text = ' '.join(new_words)\n",
    "    return augmented_text\n",
    "\n",
    "def get_antonyms(word):\n",
    "    antonyms = set()\n",
    "    for syn in wordnet.synsets(word):\n",
    "        for lem in syn.lemmas():\n",
    "            for ant in lem.antonyms():\n",
    "                antonym = ant.name().replace('_', ' ').lower()\n",
    "                antonyms.add(antonym)\n",
    "    return list(antonyms)\n"
   ]
  },
  {
   "cell_type": "code",
   "execution_count": 20,
   "metadata": {},
   "outputs": [],
   "source": [
    "def random_insertion(text, n=2):\n",
    "    \"\"\"\n",
    "    Umeće n sinonima nasumično u tekst.\n",
    "    \n",
    "    Argumenti:\n",
    "    - text: Originalni tekst.\n",
    "    - n: Broj reči koje će biti umetnute.\n",
    "    \n",
    "    Vraća:\n",
    "    - Tekst sa umetnutim rečima.\n",
    "    \"\"\"\n",
    "    words = text.split()\n",
    "    for _ in range(n):\n",
    "        add_word(words)\n",
    "    augmented_text = ' '.join(words)\n",
    "    return augmented_text\n",
    "\n",
    "def add_word(words):\n",
    "    synonyms = []\n",
    "    counter = 0\n",
    "    while len(synonyms) < 1 and counter < 10:\n",
    "        random_word = words[random.randint(0, len(words)-1)]\n",
    "        synonyms = get_synonyms(random_word)\n",
    "        counter += 1\n",
    "    if len(synonyms) >= 1:\n",
    "        synonym = random.choice(synonyms)\n",
    "        random_idx = random.randint(0, len(words))\n",
    "        words.insert(random_idx, synonym)\n"
   ]
  },
  {
   "cell_type": "code",
   "execution_count": 21,
   "metadata": {},
   "outputs": [],
   "source": [
    "def random_swap(text, n=2):\n",
    "    \"\"\"\n",
    "    Menja mesta dvema rečima u tekstu n puta.\n",
    "    \n",
    "    Argumenti:\n",
    "    - text: Originalni tekst.\n",
    "    - n: Broj zamena.\n",
    "    \n",
    "    Vraća:\n",
    "    - Tekst sa zamenjenim rečima.\n",
    "    \"\"\"\n",
    "    words = text.split()\n",
    "    for _ in range(n):\n",
    "        words = swap_word(words)\n",
    "    augmented_text = ' '.join(words)\n",
    "    return augmented_text\n",
    "\n",
    "def swap_word(words):\n",
    "    idx1 = random.randint(0, len(words)-1)\n",
    "    idx2 = random.randint(0, len(words)-1)\n",
    "    words[idx1], words[idx2] = words[idx2], words[idx1]\n",
    "    return words\n"
   ]
  },
  {
   "cell_type": "code",
   "execution_count": 22,
   "metadata": {},
   "outputs": [],
   "source": [
    "def random_deletion(text, p=0.2):\n",
    "    \"\"\"\n",
    "    Briše reči iz teksta sa verovatnoćom p.\n",
    "    \n",
    "    Argumenti:\n",
    "    - text: Originalni tekst.\n",
    "    - p: Verovatnoća brisanja reči.\n",
    "    \n",
    "    Vraća:\n",
    "    - Tekst sa obrisanim rečima.\n",
    "    \"\"\"\n",
    "    words = text.split()\n",
    "    if len(words) == 1:\n",
    "        return text\n",
    "    new_words = []\n",
    "    for word in words:\n",
    "        if random.uniform(0,1) > p:\n",
    "            new_words.append(word)\n",
    "    if len(new_words) == 0:\n",
    "        return random.choice(words)\n",
    "    else:\n",
    "        return ' '.join(new_words)\n"
   ]
  },
  {
   "cell_type": "code",
   "execution_count": 23,
   "metadata": {},
   "outputs": [],
   "source": [
    "def split_augmentation(text, n=2):\n",
    "    \"\"\"\n",
    "    Deli n reči na manje delove.\n",
    "    \n",
    "    Argumenti:\n",
    "    - text: Originalni tekst.\n",
    "    - n: Broj reči koje će biti podeljene.\n",
    "    \n",
    "    Vraća:\n",
    "    - Tekst sa podeljenim rečima.\n",
    "    \"\"\"\n",
    "    words = text.split()\n",
    "    new_words = words.copy()\n",
    "    num_splits = 0\n",
    "    while num_splits < n:\n",
    "        idx = random.randint(0, len(new_words)-1)\n",
    "        word = new_words[idx]\n",
    "        if len(word) > 1:\n",
    "            split_point = random.randint(1, len(word)-1)\n",
    "            new_words[idx:idx+1] = [word[:split_point], word[split_point:]]\n",
    "            num_splits += 1\n",
    "        if num_splits >= n:\n",
    "            break\n",
    "    return ' '.join(new_words)\n"
   ]
  },
  {
   "cell_type": "code",
   "execution_count": 24,
   "metadata": {},
   "outputs": [],
   "source": [
    "def spelling_augmentation(text, error_prob=0.1):\n",
    "    \"\"\"\n",
    "    Umeće pravopisne greške u reči.\n",
    "    \n",
    "    Argumenti:\n",
    "    - text: Originalni tekst.\n",
    "    - error_prob: Verovatnoća da će reč biti izmenjena.\n",
    "    \n",
    "    Vraća:\n",
    "    - Tekst sa pravopisnim greškama.\n",
    "    \"\"\"\n",
    "    words = text.split()\n",
    "    new_words = []\n",
    "    for word in words:\n",
    "        if random.random() < error_prob:\n",
    "            new_word = random_character_augmentation(word, aug_prob=0.2)\n",
    "            new_words.append(new_word)\n",
    "        else:\n",
    "            new_words.append(word)\n",
    "    return ' '.join(new_words)\n"
   ]
  },
  {
   "cell_type": "markdown",
   "metadata": {},
   "source": [
    "#### Metode augmentacije na nivu fraza i rečenica"
   ]
  },
  {
   "cell_type": "code",
   "execution_count": 25,
   "metadata": {},
   "outputs": [],
   "source": [
    "def random_sentence_augmentation(text):\n",
    "    \"\"\"\n",
    "    Nasumično menja redosled rečenica u tekstu.\n",
    "    \n",
    "    Argumenti:\n",
    "    - text: Originalni tekst.\n",
    "    \n",
    "    Vraća:\n",
    "    - Tekst sa promenjenim redosledom rečenica.\n",
    "    \"\"\"\n",
    "    sentences = nltk.sent_tokenize(text)\n",
    "    random.shuffle(sentences)\n",
    "    return ' '.join(sentences)\n"
   ]
  },
  {
   "cell_type": "markdown",
   "metadata": {},
   "source": [
    "#### Primena metoda nad augmentiranim podacima"
   ]
  },
  {
   "cell_type": "code",
   "execution_count": null,
   "metadata": {},
   "outputs": [],
   "source": [
    "from tqdm import tqdm\n",
    "def augment_dataset(df, text_column, method, num_augmented_instances, **kwargs):\n",
    "    \"\"\"\n",
    "    Primeni izabranu metodu augmentacije na dataset.\n",
    "    \n",
    "    Argumenti:\n",
    "    - df: Originalni DataFrame.\n",
    "    - text_column: Naziv kolone sa tekstom.\n",
    "    - method: Funkcija metode augmentacije.\n",
    "    - num_augmented_instances: Broj instanci koje treba generisati.\n",
    "    - **kwargs: Dodatni argumenti za metodu augmentacije.\n",
    "    \n",
    "    Vraća:\n",
    "    - DataFrame sa augmentiranim podacima.\n",
    "    \"\"\"\n",
    "    augmented_texts = []\n",
    "    indices = df.index.tolist()\n",
    "    num_samples = len(indices)\n",
    "    \n",
    "    replace = num_augmented_instances > num_samples\n",
    "    sampled_indices = np.random.choice(indices, size=num_augmented_instances, replace=replace)\n",
    "    \n",
    "    for idx in tqdm(sampled_indices, desc=f'Augmenting with {method.__name__}'):\n",
    "        original_text = df.loc[idx, text_column]\n",
    "        augmented_text = method(original_text, **kwargs)\n",
    "        augmented_texts.append(augmented_text)\n",
    "    \n",
    "    augmented_df = pd.DataFrame({text_column: augmented_texts})\n",
    "    return augmented_df\n"
   ]
  },
  {
   "cell_type": "markdown",
   "metadata": {},
   "source": [
    "#### Augmentirani dataset 1"
   ]
  },
  {
   "cell_type": "code",
   "execution_count": 28,
   "metadata": {},
   "outputs": [
    {
     "name": "stderr",
     "output_type": "stream",
     "text": [
      "Augmenting with simulate_spelling_errors: 100%|██████████| 3399/3399 [00:00<00:00, 29293.73it/s]\n",
      "Augmenting with synonym_replacement: 100%|██████████| 3399/3399 [00:01<00:00, 3109.51it/s]\n",
      "Augmenting with random_sentence_augmentation: 100%|██████████| 3399/3399 [00:00<00:00, 29153.32it/s]\n",
      "Augmenting with split_augmentation: 100%|██████████| 3399/3399 [00:00<00:00, 68624.04it/s]"
     ]
    },
    {
     "name": "stdout",
     "output_type": "stream",
     "text": [
      "                                                   tweet  label  \\\n",
      "0      !!! RT @mayasolovely: As a woman you shouldn't...      0   \n",
      "1      !!!!! RT @mleew17: boy dats cold...tyga dwn ba...      1   \n",
      "2      !!!!!!! RT @UrKindOfBrand Dawg!!!! RT @80sbaby...      1   \n",
      "3      !!!!!!!!! RT @C_G_Anderson: @viva_based she lo...      1   \n",
      "4      !!!!!!!!!!!!! RT @ShenikaRoberts: The shit you...      1   \n",
      "...                                                  ...    ...   \n",
      "38374                                                NaN      0   \n",
      "38375                                                NaN      0   \n",
      "38376                                                NaN      0   \n",
      "38377                                                NaN      0   \n",
      "38378                                                NaN      0   \n",
      "\n",
      "                                             clean_tweet  \n",
      "0      rt mayasolovely woman complain cleaning house ...  \n",
      "1      rt mleew boy dat cold tyga dwn bad cuffin dat ...  \n",
      "2      rt urkindofbrand dawg rt sbaby life ever fuck ...  \n",
      "3            rt c g anderson viva based look like tranny  \n",
      "4      rt shenikaroberts shit hear might true might f...  \n",
      "...                                                  ...  \n",
      "38374                           s wap meet bo und beaner  \n",
      "38375  ruffled ntac eileen dah lia beautiful co lor c...  \n",
      "38376  rt cigars nsc otch black yellow going win year...  \n",
      "38377                                         dem b ir d  \n",
      "38378        stay warm beany swea terweather boo ty ever  \n",
      "\n",
      "[38379 rows x 3 columns]\n"
     ]
    },
    {
     "name": "stderr",
     "output_type": "stream",
     "text": [
      "\n"
     ]
    }
   ],
   "source": [
    "import pandas as pd\n",
    "\n",
    "all_methods = [simulate_spelling_errors, keyboard_augmenter, ocr_simulation, random_character_augmentation, synonym_replacement, antonym_replacement, random_insertion, random_swap, random_deletion, split_augmentation, spelling_augmentation, random_sentence_augmentation]\n",
    "met1= [simulate_spelling_errors, synonym_replacement, random_sentence_augmentation, split_augmentation]\n",
    "\n",
    "negative_class_df = data[data['label'] == 0]\n",
    "\n",
    "num_class_0 = len(negative_class_df)\n",
    "num_class_1 = len(data[data['label'] == 1])\n",
    "\n",
    "class_difference = abs(num_class_0 - num_class_1)\n",
    "\n",
    "num_methods = len(met1)\n",
    "\n",
    "split_dataframes = np.array_split(negative_class_df, num_methods)\n",
    "\n",
    "num_instances_per_method = class_difference // num_methods\n",
    "\n",
    "augmented_dfs = []\n",
    "for method, split_df in zip(met1, split_dataframes):\n",
    "    augmented_df = augment_dataset(\n",
    "        split_df, \n",
    "        text_column='clean_tweet', \n",
    "        method=method, \n",
    "        num_augmented_instances=num_instances_per_method\n",
    "    )\n",
    "    augmented_df['label'] = 0\n",
    "    augmented_dfs.append(augmented_df)\n",
    "\n",
    "final_augmented_df = pd.concat(augmented_dfs, ignore_index=True)\n",
    "\n",
    "final = pd.concat([data, final_augmented_df], ignore_index=True)\n",
    "\n",
    "print(final)\n"
   ]
  },
  {
   "cell_type": "code",
   "execution_count": 29,
   "metadata": {},
   "outputs": [
    {
     "data": {
      "image/png": "[encoded data removed]",
      "text/plain": [
       "<Figure size 640x480 with 1 Axes>"
      ]
     },
     "metadata": {},
     "output_type": "display_data"
    }
   ],
   "source": [
    "plot_distribution(final, 'label')"
   ]
  },
  {
   "cell_type": "code",
   "execution_count": 30,
   "metadata": {},
   "outputs": [
    {
     "name": "stdout",
     "output_type": "stream",
     "text": [
      "19189 19190\n"
     ]
    }
   ],
   "source": [
    "num_class_0f = len(final[final['label'] == 0])\n",
    "num_class_1f = len(final[final['label'] == 1])\n",
    "\n",
    "print(num_class_0f, num_class_1f)"
   ]
  },
  {
   "cell_type": "code",
   "execution_count": 31,
   "metadata": {},
   "outputs": [
    {
     "data": {
      "text/html": [
       "<div>\n",
       "<style scoped>\n",
       "    .dataframe tbody tr th:only-of-type {\n",
       "        vertical-align: middle;\n",
       "    }\n",
       "\n",
       "    .dataframe tbody tr th {\n",
       "        vertical-align: top;\n",
       "    }\n",
       "\n",
       "    .dataframe thead th {\n",
       "        text-align: right;\n",
       "    }\n",
       "</style>\n",
       "<table border=\"1\" class=\"dataframe\">\n",
       "  <thead>\n",
       "    <tr style=\"text-align: right;\">\n",
       "      <th></th>\n",
       "      <th>tweet</th>\n",
       "      <th>label</th>\n",
       "      <th>clean_tweet</th>\n",
       "    </tr>\n",
       "  </thead>\n",
       "  <tbody>\n",
       "    <tr>\n",
       "      <th>0</th>\n",
       "      <td>!!! RT @mayasolovely: As a woman you shouldn't...</td>\n",
       "      <td>0</td>\n",
       "      <td>rt mayasolovely woman complain cleaning house ...</td>\n",
       "    </tr>\n",
       "    <tr>\n",
       "      <th>1</th>\n",
       "      <td>!!!!! RT @mleew17: boy dats cold...tyga dwn ba...</td>\n",
       "      <td>1</td>\n",
       "      <td>rt mleew boy dat cold tyga dwn bad cuffin dat ...</td>\n",
       "    </tr>\n",
       "    <tr>\n",
       "      <th>2</th>\n",
       "      <td>!!!!!!! RT @UrKindOfBrand Dawg!!!! RT @80sbaby...</td>\n",
       "      <td>1</td>\n",
       "      <td>rt urkindofbrand dawg rt sbaby life ever fuck ...</td>\n",
       "    </tr>\n",
       "    <tr>\n",
       "      <th>3</th>\n",
       "      <td>!!!!!!!!! RT @C_G_Anderson: @viva_based she lo...</td>\n",
       "      <td>1</td>\n",
       "      <td>rt c g anderson viva based look like tranny</td>\n",
       "    </tr>\n",
       "    <tr>\n",
       "      <th>4</th>\n",
       "      <td>!!!!!!!!!!!!! RT @ShenikaRoberts: The shit you...</td>\n",
       "      <td>1</td>\n",
       "      <td>rt shenikaroberts shit hear might true might f...</td>\n",
       "    </tr>\n",
       "    <tr>\n",
       "      <th>...</th>\n",
       "      <td>...</td>\n",
       "      <td>...</td>\n",
       "      <td>...</td>\n",
       "    </tr>\n",
       "    <tr>\n",
       "      <th>38374</th>\n",
       "      <td>NaN</td>\n",
       "      <td>0</td>\n",
       "      <td>s wap meet bo und beaner</td>\n",
       "    </tr>\n",
       "    <tr>\n",
       "      <th>38375</th>\n",
       "      <td>NaN</td>\n",
       "      <td>0</td>\n",
       "      <td>ruffled ntac eileen dah lia beautiful co lor c...</td>\n",
       "    </tr>\n",
       "    <tr>\n",
       "      <th>38376</th>\n",
       "      <td>NaN</td>\n",
       "      <td>0</td>\n",
       "      <td>rt cigars nsc otch black yellow going win year...</td>\n",
       "    </tr>\n",
       "    <tr>\n",
       "      <th>38377</th>\n",
       "      <td>NaN</td>\n",
       "      <td>0</td>\n",
       "      <td>dem b ir d</td>\n",
       "    </tr>\n",
       "    <tr>\n",
       "      <th>38378</th>\n",
       "      <td>NaN</td>\n",
       "      <td>0</td>\n",
       "      <td>stay warm beany swea terweather boo ty ever</td>\n",
       "    </tr>\n",
       "  </tbody>\n",
       "</table>\n",
       "<p>38379 rows × 3 columns</p>\n",
       "</div>"
      ],
      "text/plain": [
       "                                                   tweet  label  \\\n",
       "0      !!! RT @mayasolovely: As a woman you shouldn't...      0   \n",
       "1      !!!!! RT @mleew17: boy dats cold...tyga dwn ba...      1   \n",
       "2      !!!!!!! RT @UrKindOfBrand Dawg!!!! RT @80sbaby...      1   \n",
       "3      !!!!!!!!! RT @C_G_Anderson: @viva_based she lo...      1   \n",
       "4      !!!!!!!!!!!!! RT @ShenikaRoberts: The shit you...      1   \n",
       "...                                                  ...    ...   \n",
       "38374                                                NaN      0   \n",
       "38375                                                NaN      0   \n",
       "38376                                                NaN      0   \n",
       "38377                                                NaN      0   \n",
       "38378                                                NaN      0   \n",
       "\n",
       "                                             clean_tweet  \n",
       "0      rt mayasolovely woman complain cleaning house ...  \n",
       "1      rt mleew boy dat cold tyga dwn bad cuffin dat ...  \n",
       "2      rt urkindofbrand dawg rt sbaby life ever fuck ...  \n",
       "3            rt c g anderson viva based look like tranny  \n",
       "4      rt shenikaroberts shit hear might true might f...  \n",
       "...                                                  ...  \n",
       "38374                           s wap meet bo und beaner  \n",
       "38375  ruffled ntac eileen dah lia beautiful co lor c...  \n",
       "38376  rt cigars nsc otch black yellow going win year...  \n",
       "38377                                         dem b ir d  \n",
       "38378        stay warm beany swea terweather boo ty ever  \n",
       "\n",
       "[38379 rows x 3 columns]"
      ]
     },
     "execution_count": 31,
     "metadata": {},
     "output_type": "execute_result"
    }
   ],
   "source": [
    "final = pd.concat([data, final_augmented_df], ignore_index=True)\n",
    "df_augmented_set1 = final\n",
    "df_augmented_set1"
   ]
  },
  {
   "cell_type": "code",
   "execution_count": 32,
   "metadata": {},
   "outputs": [
    {
     "name": "stdout",
     "output_type": "stream",
     "text": [
      "Logistička regresija: \n",
      "Izveštaj o klasifikaciji:\n",
      "              precision    recall  f1-score   support\n",
      "\n",
      "           0       0.90      0.92      0.91      3877\n",
      "           1       0.92      0.89      0.91      3799\n",
      "\n",
      "    accuracy                           0.91      7676\n",
      "   macro avg       0.91      0.91      0.91      7676\n",
      "weighted avg       0.91      0.91      0.91      7676\n",
      "\n",
      "Matrica konfuzije:\n",
      "[[3586  291]\n",
      " [ 405 3394]]\n",
      "SVM: \n",
      "Izveštaj o klasifikaciji:\n",
      "              precision    recall  f1-score   support\n",
      "\n",
      "           0       0.91      0.95      0.93      3877\n",
      "           1       0.95      0.90      0.92      3799\n",
      "\n",
      "    accuracy                           0.93      7676\n",
      "   macro avg       0.93      0.93      0.93      7676\n",
      "weighted avg       0.93      0.93      0.93      7676\n",
      "\n",
      "Matrica konfuzije:\n",
      "[[3678  199]\n",
      " [ 361 3438]]\n",
      "Naive Bayes: \n",
      "Izveštaj o klasifikaciji:\n",
      "              precision    recall  f1-score   support\n",
      "\n",
      "           0       0.90      0.81      0.85      3877\n",
      "           1       0.82      0.90      0.86      3799\n",
      "\n",
      "    accuracy                           0.86      7676\n",
      "   macro avg       0.86      0.86      0.86      7676\n",
      "weighted avg       0.86      0.86      0.86      7676\n",
      "\n",
      "Matrica konfuzije:\n",
      "[[3145  732]\n",
      " [ 366 3433]]\n",
      "LSTM: \n",
      "Epoch 1/5\n"
     ]
    },
    {
     "name": "stderr",
     "output_type": "stream",
     "text": [
      "c:\\Users\\Kaca\\AppData\\Local\\Programs\\Python\\Python311\\Lib\\site-packages\\keras\\src\\layers\\core\\embedding.py:90: UserWarning: Argument `input_length` is deprecated. Just remove it.\n",
      "  warnings.warn(\n"
     ]
    },
    {
     "name": "stdout",
     "output_type": "stream",
     "text": [
      "\u001b[1m480/480\u001b[0m \u001b[32m━━━━━━━━━━━━━━━━━━━━\u001b[0m\u001b[37m\u001b[0m \u001b[1m83s\u001b[0m 166ms/step - accuracy: 0.8435 - loss: 0.3861 - val_accuracy: 0.9108 - val_loss: 0.2500\n",
      "Epoch 2/5\n",
      "\u001b[1m480/480\u001b[0m \u001b[32m━━━━━━━━━━━━━━━━━━━━\u001b[0m\u001b[37m\u001b[0m \u001b[1m81s\u001b[0m 169ms/step - accuracy: 0.9253 - loss: 0.2119 - val_accuracy: 0.9125 - val_loss: 0.2431\n",
      "Epoch 3/5\n",
      "\u001b[1m480/480\u001b[0m \u001b[32m━━━━━━━━━━━━━━━━━━━━\u001b[0m\u001b[37m\u001b[0m \u001b[1m82s\u001b[0m 171ms/step - accuracy: 0.9406 - loss: 0.1696 - val_accuracy: 0.9196 - val_loss: 0.2249\n",
      "Epoch 4/5\n",
      "\u001b[1m480/480\u001b[0m \u001b[32m━━━━━━━━━━━━━━━━━━━━\u001b[0m\u001b[37m\u001b[0m \u001b[1m373s\u001b[0m 779ms/step - accuracy: 0.9522 - loss: 0.1278 - val_accuracy: 0.9243 - val_loss: 0.2244\n",
      "Epoch 5/5\n",
      "\u001b[1m480/480\u001b[0m \u001b[32m━━━━━━━━━━━━━━━━━━━━\u001b[0m\u001b[37m\u001b[0m \u001b[1m84s\u001b[0m 175ms/step - accuracy: 0.9617 - loss: 0.1039 - val_accuracy: 0.9254 - val_loss: 0.2353\n",
      "\u001b[1m240/240\u001b[0m \u001b[32m━━━━━━━━━━━━━━━━━━━━\u001b[0m\u001b[37m\u001b[0m \u001b[1m7s\u001b[0m 31ms/step - accuracy: 0.9192 - loss: 0.2478\n",
      "LSTM Test Accuracy: 0.9253517389297485\n",
      "\u001b[1m240/240\u001b[0m \u001b[32m━━━━━━━━━━━━━━━━━━━━\u001b[0m\u001b[37m\u001b[0m \u001b[1m8s\u001b[0m 30ms/step\n",
      "Izveštaj o klasifikaciji:\n",
      "              precision    recall  f1-score   support\n",
      "\n",
      "           0       0.93      0.92      0.93      3877\n",
      "           1       0.92      0.93      0.92      3799\n",
      "\n",
      "    accuracy                           0.93      7676\n",
      "   macro avg       0.93      0.93      0.93      7676\n",
      "weighted avg       0.93      0.93      0.93      7676\n",
      "\n",
      "Matrica konfuzije:\n",
      "[[3578  299]\n",
      " [ 274 3525]]\n",
      "CNN: \n",
      "Epoch 1/5\n"
     ]
    },
    {
     "name": "stderr",
     "output_type": "stream",
     "text": [
      "c:\\Users\\Kaca\\AppData\\Local\\Programs\\Python\\Python311\\Lib\\site-packages\\keras\\src\\layers\\core\\embedding.py:90: UserWarning: Argument `input_length` is deprecated. Just remove it.\n",
      "  warnings.warn(\n"
     ]
    },
    {
     "name": "stdout",
     "output_type": "stream",
     "text": [
      "\u001b[1m480/480\u001b[0m \u001b[32m━━━━━━━━━━━━━━━━━━━━\u001b[0m\u001b[37m\u001b[0m \u001b[1m38s\u001b[0m 77ms/step - accuracy: 0.8154 - loss: 0.4175 - val_accuracy: 0.9104 - val_loss: 0.2489\n",
      "Epoch 2/5\n",
      "\u001b[1m480/480\u001b[0m \u001b[32m━━━━━━━━━━━━━━━━━━━━\u001b[0m\u001b[37m\u001b[0m \u001b[1m36s\u001b[0m 75ms/step - accuracy: 0.9335 - loss: 0.1888 - val_accuracy: 0.9191 - val_loss: 0.2255\n",
      "Epoch 3/5\n",
      "\u001b[1m480/480\u001b[0m \u001b[32m━━━━━━━━━━━━━━━━━━━━\u001b[0m\u001b[37m\u001b[0m \u001b[1m39s\u001b[0m 80ms/step - accuracy: 0.9639 - loss: 0.1138 - val_accuracy: 0.9203 - val_loss: 0.2425\n",
      "Epoch 4/5\n",
      "\u001b[1m480/480\u001b[0m \u001b[32m━━━━━━━━━━━━━━━━━━━━\u001b[0m\u001b[37m\u001b[0m \u001b[1m41s\u001b[0m 85ms/step - accuracy: 0.9787 - loss: 0.0651 - val_accuracy: 0.9091 - val_loss: 0.2910\n",
      "Epoch 5/5\n",
      "\u001b[1m480/480\u001b[0m \u001b[32m━━━━━━━━━━━━━━━━━━━━\u001b[0m\u001b[37m\u001b[0m \u001b[1m42s\u001b[0m 87ms/step - accuracy: 0.9852 - loss: 0.0459 - val_accuracy: 0.9125 - val_loss: 0.3298\n",
      "\u001b[1m240/240\u001b[0m \u001b[32m━━━━━━━━━━━━━━━━━━━━\u001b[0m\u001b[37m\u001b[0m \u001b[1m2s\u001b[0m 7ms/step - accuracy: 0.9054 - loss: 0.3578\n",
      "CNN Test Accuracy: 0.9124544262886047\n",
      "\u001b[1m240/240\u001b[0m \u001b[32m━━━━━━━━━━━━━━━━━━━━\u001b[0m\u001b[37m\u001b[0m \u001b[1m2s\u001b[0m 7ms/step\n",
      "Izveštaj o klasifikaciji:\n",
      "              precision    recall  f1-score   support\n",
      "\n",
      "           0       0.90      0.92      0.91      3877\n",
      "           1       0.92      0.90      0.91      3799\n",
      "\n",
      "    accuracy                           0.91      7676\n",
      "   macro avg       0.91      0.91      0.91      7676\n",
      "weighted avg       0.91      0.91      0.91      7676\n",
      "\n",
      "Matrica konfuzije:\n",
      "[[3585  292]\n",
      " [ 380 3419]]\n"
     ]
    }
   ],
   "source": [
    "X_aug1 = df_augmented_set1['clean_tweet']\n",
    "y_aug1 = df_augmented_set1['label']\n",
    "\n",
    "run(X_aug1, y_aug1)"
   ]
  },
  {
   "cell_type": "markdown",
   "metadata": {},
   "source": [
    "#### Augmentirani dataset 2"
   ]
  },
  {
   "cell_type": "code",
   "execution_count": 33,
   "metadata": {},
   "outputs": [],
   "source": [
    "augmented_data = pd.read_csv('fully_augmented_train.csv')\n",
    "augmented_df2 = augmented_data[['clean_tweet', 'label']]\n",
    "augmented_df2 = augmented_df2.dropna()"
   ]
  },
  {
   "cell_type": "code",
   "execution_count": 34,
   "metadata": {},
   "outputs": [
    {
     "name": "stdout",
     "output_type": "stream",
     "text": [
      "22133 19190\n"
     ]
    }
   ],
   "source": [
    "num_class_0f = len(augmented_df2[augmented_df2['label'] == 0])\n",
    "num_class_1f = len(augmented_df2[augmented_df2['label'] == 1])\n",
    "\n",
    "print(num_class_0f, num_class_1f)"
   ]
  },
  {
   "cell_type": "code",
   "execution_count": 35,
   "metadata": {},
   "outputs": [
    {
     "data": {
      "image/png": "[encoded data removed]",
      "text/plain": [
       "<Figure size 640x480 with 1 Axes>"
      ]
     },
     "metadata": {},
     "output_type": "display_data"
    }
   ],
   "source": [
    "plot_distribution(augmented_df2, 'label')"
   ]
  },
  {
   "cell_type": "code",
   "execution_count": 36,
   "metadata": {},
   "outputs": [
    {
     "name": "stdout",
     "output_type": "stream",
     "text": [
      "Logistička regresija: \n",
      "Izveštaj o klasifikaciji:\n",
      "              precision    recall  f1-score   support\n",
      "\n",
      "           0       0.90      0.93      0.92      4465\n",
      "           1       0.92      0.88      0.90      3800\n",
      "\n",
      "    accuracy                           0.91      8265\n",
      "   macro avg       0.91      0.90      0.91      8265\n",
      "weighted avg       0.91      0.91      0.91      8265\n",
      "\n",
      "Matrica konfuzije:\n",
      "[[4163  302]\n",
      " [ 467 3333]]\n",
      "SVM: \n",
      "Izveštaj o klasifikaciji:\n",
      "              precision    recall  f1-score   support\n",
      "\n",
      "           0       0.92      0.96      0.94      4465\n",
      "           1       0.95      0.90      0.93      3800\n",
      "\n",
      "    accuracy                           0.93      8265\n",
      "   macro avg       0.94      0.93      0.93      8265\n",
      "weighted avg       0.94      0.93      0.93      8265\n",
      "\n",
      "Matrica konfuzije:\n",
      "[[4293  172]\n",
      " [ 371 3429]]\n",
      "Naive Bayes: \n",
      "Izveštaj o klasifikaciji:\n",
      "              precision    recall  f1-score   support\n",
      "\n",
      "           0       0.90      0.85      0.88      4465\n",
      "           1       0.83      0.89      0.86      3800\n",
      "\n",
      "    accuracy                           0.87      8265\n",
      "   macro avg       0.87      0.87      0.87      8265\n",
      "weighted avg       0.87      0.87      0.87      8265\n",
      "\n",
      "Matrica konfuzije:\n",
      "[[3795  670]\n",
      " [ 413 3387]]\n",
      "LSTM: \n",
      "Epoch 1/5\n"
     ]
    },
    {
     "name": "stderr",
     "output_type": "stream",
     "text": [
      "c:\\Users\\Kaca\\AppData\\Local\\Programs\\Python\\Python311\\Lib\\site-packages\\keras\\src\\layers\\core\\embedding.py:90: UserWarning: Argument `input_length` is deprecated. Just remove it.\n",
      "  warnings.warn(\n"
     ]
    },
    {
     "name": "stdout",
     "output_type": "stream",
     "text": [
      "\u001b[1m517/517\u001b[0m \u001b[32m━━━━━━━━━━━━━━━━━━━━\u001b[0m\u001b[37m\u001b[0m \u001b[1m97s\u001b[0m 182ms/step - accuracy: 0.8311 - loss: 0.3958 - val_accuracy: 0.9091 - val_loss: 0.2473\n",
      "Epoch 2/5\n",
      "\u001b[1m517/517\u001b[0m \u001b[32m━━━━━━━━━━━━━━━━━━━━\u001b[0m\u001b[37m\u001b[0m \u001b[1m98s\u001b[0m 190ms/step - accuracy: 0.9211 - loss: 0.2134 - val_accuracy: 0.9174 - val_loss: 0.2208\n",
      "Epoch 3/5\n",
      "\u001b[1m517/517\u001b[0m \u001b[32m━━━━━━━━━━━━━━━━━━━━\u001b[0m\u001b[37m\u001b[0m \u001b[1m94s\u001b[0m 181ms/step - accuracy: 0.9392 - loss: 0.1592 - val_accuracy: 0.9244 - val_loss: 0.2121\n",
      "Epoch 4/5\n",
      "\u001b[1m517/517\u001b[0m \u001b[32m━━━━━━━━━━━━━━━━━━━━\u001b[0m\u001b[37m\u001b[0m \u001b[1m102s\u001b[0m 198ms/step - accuracy: 0.9539 - loss: 0.1217 - val_accuracy: 0.9262 - val_loss: 0.2181\n",
      "Epoch 5/5\n",
      "\u001b[1m517/517\u001b[0m \u001b[32m━━━━━━━━━━━━━━━━━━━━\u001b[0m\u001b[37m\u001b[0m \u001b[1m91s\u001b[0m 177ms/step - accuracy: 0.9651 - loss: 0.0959 - val_accuracy: 0.9306 - val_loss: 0.2286\n",
      "\u001b[1m259/259\u001b[0m \u001b[32m━━━━━━━━━━━━━━━━━━━━\u001b[0m\u001b[37m\u001b[0m \u001b[1m9s\u001b[0m 33ms/step - accuracy: 0.9298 - loss: 0.2266\n",
      "LSTM Test Accuracy: 0.9305505156517029\n",
      "\u001b[1m259/259\u001b[0m \u001b[32m━━━━━━━━━━━━━━━━━━━━\u001b[0m\u001b[37m\u001b[0m \u001b[1m9s\u001b[0m 33ms/step\n",
      "Izveštaj o klasifikaciji:\n",
      "              precision    recall  f1-score   support\n",
      "\n",
      "           0       0.92      0.95      0.94      4465\n",
      "           1       0.94      0.90      0.92      3800\n",
      "\n",
      "    accuracy                           0.93      8265\n",
      "   macro avg       0.93      0.93      0.93      8265\n",
      "weighted avg       0.93      0.93      0.93      8265\n",
      "\n",
      "Matrica konfuzije:\n",
      "[[4255  210]\n",
      " [ 364 3436]]\n",
      "CNN: \n",
      "Epoch 1/5\n"
     ]
    },
    {
     "name": "stderr",
     "output_type": "stream",
     "text": [
      "c:\\Users\\Kaca\\AppData\\Local\\Programs\\Python\\Python311\\Lib\\site-packages\\keras\\src\\layers\\core\\embedding.py:90: UserWarning: Argument `input_length` is deprecated. Just remove it.\n",
      "  warnings.warn(\n"
     ]
    },
    {
     "name": "stdout",
     "output_type": "stream",
     "text": [
      "\u001b[1m517/517\u001b[0m \u001b[32m━━━━━━━━━━━━━━━━━━━━\u001b[0m\u001b[37m\u001b[0m \u001b[1m36s\u001b[0m 66ms/step - accuracy: 0.8062 - loss: 0.4136 - val_accuracy: 0.9055 - val_loss: 0.2455\n",
      "Epoch 2/5\n",
      "\u001b[1m517/517\u001b[0m \u001b[32m━━━━━━━━━━━━━━━━━━━━\u001b[0m\u001b[37m\u001b[0m \u001b[1m39s\u001b[0m 74ms/step - accuracy: 0.9314 - loss: 0.1880 - val_accuracy: 0.9197 - val_loss: 0.2328\n",
      "Epoch 3/5\n",
      "\u001b[1m517/517\u001b[0m \u001b[32m━━━━━━━━━━━━━━━━━━━━\u001b[0m\u001b[37m\u001b[0m \u001b[1m38s\u001b[0m 74ms/step - accuracy: 0.9650 - loss: 0.1020 - val_accuracy: 0.9206 - val_loss: 0.2474\n",
      "Epoch 4/5\n",
      "\u001b[1m517/517\u001b[0m \u001b[32m━━━━━━━━━━━━━━━━━━━━\u001b[0m\u001b[37m\u001b[0m \u001b[1m36s\u001b[0m 70ms/step - accuracy: 0.9823 - loss: 0.0570 - val_accuracy: 0.9245 - val_loss: 0.2721\n",
      "Epoch 5/5\n",
      "\u001b[1m517/517\u001b[0m \u001b[32m━━━━━━━━━━━━━━━━━━━━\u001b[0m\u001b[37m\u001b[0m \u001b[1m34s\u001b[0m 66ms/step - accuracy: 0.9885 - loss: 0.0361 - val_accuracy: 0.9191 - val_loss: 0.3280\n",
      "\u001b[1m259/259\u001b[0m \u001b[32m━━━━━━━━━━━━━━━━━━━━\u001b[0m\u001b[37m\u001b[0m \u001b[1m2s\u001b[0m 6ms/step - accuracy: 0.9177 - loss: 0.3522\n",
      "CNN Test Accuracy: 0.919056236743927\n",
      "\u001b[1m259/259\u001b[0m \u001b[32m━━━━━━━━━━━━━━━━━━━━\u001b[0m\u001b[37m\u001b[0m \u001b[1m2s\u001b[0m 6ms/step\n",
      "Izveštaj o klasifikaciji:\n",
      "              precision    recall  f1-score   support\n",
      "\n",
      "           0       0.91      0.95      0.93      4465\n",
      "           1       0.94      0.89      0.91      3800\n",
      "\n",
      "    accuracy                           0.92      8265\n",
      "   macro avg       0.92      0.92      0.92      8265\n",
      "weighted avg       0.92      0.92      0.92      8265\n",
      "\n",
      "Matrica konfuzije:\n",
      "[[4233  232]\n",
      " [ 437 3363]]\n"
     ]
    }
   ],
   "source": [
    "X_aug2 = augmented_df2['clean_tweet']\n",
    "y_aug2 = augmented_df2['label']\n",
    "\n",
    "run(X_aug2, y_aug2)\n"
   ]
  },
  {
   "cell_type": "code",
   "execution_count": null,
   "metadata": {},
   "outputs": [
    {
     "name": "stderr",
     "output_type": "stream",
     "text": [
      "C:\\Users\\Kaca\\AppData\\Local\\Temp\\ipykernel_8152\\1219250864.py:61: UserWarning: The palette list has more values (10) than needed (3), which may not be intended.\n",
      "  ax = sns.barplot(data=accuracy_df, x='Model', y='Tačnost', hue='Dataset', palette=palette)\n"
     ]
    },
    {
     "data": {
      "image/png": "[encoded data removed]",
      "text/plain": [
       "<Figure size 2400x1000 with 1 Axes>"
      ]
     },
     "metadata": {},
     "output_type": "display_data"
    }
   ],
   "source": [
    "import pandas as pd\n",
    "import matplotlib.pyplot as plt\n",
    "import seaborn as sns\n",
    "\n",
    "sns.set(style=\"whitegrid\")\n",
    "\n",
    "models = ['Logistička regresija', 'SVM', 'Naive Bayes', 'LSTM', 'CNN']\n",
    "\n",
    "data1 = {\n",
    "    'Model': models,\n",
    "    'Tačnost': [0.90, 0.90, 0.84, 0.89, 0.87]\n",
    "}\n",
    "\n",
    "data2 = {\n",
    "    'Model': models,\n",
    "    'Tačnost': [0.91, 0.93, 0.86, 0.93, 0.91]\n",
    "}\n",
    "\n",
    "data3 = {\n",
    "    'Model': models,\n",
    "    'Tačnost': [0.91, 0.93, 0.87, 0.93, 0.92]\n",
    "}\n",
    "\n",
    "df1 = pd.DataFrame(data1)\n",
    "df2 = pd.DataFrame(data2)\n",
    "df3 = pd.DataFrame(data3)\n",
    "\n",
    "df1['Dataset'] = 'Originalni dataset'\n",
    "df2['Dataset'] = 'Augmentacija tradicionalnim metodama'\n",
    "df3['Dataset'] = 'Augmentacija naprednim metodama'\n",
    "\n",
    "df = pd.concat([df1, df2, df3], ignore_index=True)\n",
    "accuracy_df = df.copy()\n",
    "plt.figure(figsize=(24, 10))\n",
    "\n",
    "palette = sns.color_palette(\"pastel\")\n",
    "ax = sns.barplot(data=accuracy_df, x='Model', y='Tačnost', hue='Dataset', palette=palette)\n",
    "\n",
    "plt.title('Uporedna analiza tačnosti modela', fontsize=20, pad=20)\n",
    "plt.ylabel('Tačnost', fontsize=16)\n",
    "plt.xlabel('Model', fontsize=16)\n",
    "plt.ylim(0, 1)\n",
    "\n",
    "plt.legend(title='Dataset', bbox_to_anchor=(1.05, 1), loc='upper left', fontsize=14, title_fontsize=16)\n",
    "\n",
    "plt.xticks(rotation=45, fontsize=12)\n",
    "plt.yticks(fontsize=12)\n",
    "\n",
    "for p in ax.patches:\n",
    "    height = p.get_height()\n",
    "    ax.annotate(f'{height:.2f}',\n",
    "                (p.get_x() + p.get_width() / 2., height),\n",
    "                ha='center', va='bottom', fontsize=12, color='black', xytext=(0, 5),\n",
    "                textcoords='offset points')\n",
    "\n",
    "plt.tight_layout()\n",
    "plt.show()\n"
   ]
  }
 ],
 "metadata": {
  "kernelspec": {
   "display_name": "Python 3",
   "language": "python",
   "name": "python3"
  },
  "language_info": {
   "codemirror_mode": {
    "name": "ipython",
    "version": 3
   },
   "file_extension": ".py",
   "mimetype": "text/x-python",
   "name": "python",
   "nbconvert_exporter": "python",
   "pygments_lexer": "ipython3",
   "version": "3.11.0"
  }
 },
 "nbformat": 4,
 "nbformat_minor": 2
}
