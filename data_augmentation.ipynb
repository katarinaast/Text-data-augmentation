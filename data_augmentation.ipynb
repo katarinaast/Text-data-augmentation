{
 "cells": [
  {
   "cell_type": "code",
   "execution_count": 1,
   "metadata": {},
   "outputs": [
    {
     "name": "stderr",
     "output_type": "stream",
     "text": [
      "[nltk_data] Downloading package stopwords to\n",
      "[nltk_data]     C:\\Users\\Kaca\\AppData\\Roaming\\nltk_data...\n",
      "[nltk_data]   Package stopwords is already up-to-date!\n",
      "[nltk_data] Downloading package punkt to\n",
      "[nltk_data]     C:\\Users\\Kaca\\AppData\\Roaming\\nltk_data...\n",
      "[nltk_data]   Package punkt is already up-to-date!\n",
      "[nltk_data] Downloading package wordnet to\n",
      "[nltk_data]     C:\\Users\\Kaca\\AppData\\Roaming\\nltk_data...\n",
      "[nltk_data]   Package wordnet is already up-to-date!\n",
      "[nltk_data] Downloading package punkt_tab to\n",
      "[nltk_data]     C:\\Users\\Kaca\\AppData\\Roaming\\nltk_data...\n",
      "[nltk_data]   Package punkt_tab is already up-to-date!\n",
      "[nltk_data] Downloading package omw-1.4 to\n",
      "[nltk_data]     C:\\Users\\Kaca\\AppData\\Roaming\\nltk_data...\n"
     ]
    },
    {
     "name": "stdout",
     "output_type": "stream",
     "text": [
      "   count  hate_speech_count  offensive_language_count  neither_count  class  \\\n",
      "0      3                  0                         0              3      2   \n",
      "1      3                  0                         3              0      1   \n",
      "2      3                  0                         3              0      1   \n",
      "3      3                  0                         2              1      1   \n",
      "4      6                  0                         6              0      1   \n",
      "\n",
      "                                               tweet  \n",
      "0  !!! RT @mayasolovely: As a woman you shouldn't...  \n",
      "1  !!!!! RT @mleew17: boy dats cold...tyga dwn ba...  \n",
      "2  !!!!!!! RT @UrKindOfBrand Dawg!!!! RT @80sbaby...  \n",
      "3  !!!!!!!!! RT @C_G_Anderson: @viva_based she lo...  \n",
      "4  !!!!!!!!!!!!! RT @ShenikaRoberts: The shit you...  \n"
     ]
    },
    {
     "name": "stderr",
     "output_type": "stream",
     "text": [
      "[nltk_data]   Package omw-1.4 is already up-to-date!\n"
     ]
    }
   ],
   "source": [
    "import pandas as pd\n",
    "import numpy as np\n",
    "import re\n",
    "import nltk\n",
    "import unicodedata\n",
    "from bs4 import BeautifulSoup\n",
    "from nltk.corpus import stopwords\n",
    "from nltk.stem import WordNetLemmatizer\n",
    "from sklearn.model_selection import train_test_split\n",
    "\n",
    "# Preuzimanje potrebnih NLTK resursa\n",
    "nltk.download('stopwords')\n",
    "nltk.download('punkt')\n",
    "nltk.download('wordnet')\n",
    "nltk.download('punkt_tab')\n",
    "nltk.download('omw-1.4')\n",
    "\n",
    "df = pd.read_csv('train.csv')\n",
    "\n",
    "print(df.head())\n"
   ]
  },
  {
   "cell_type": "markdown",
   "metadata": {},
   "source": [
    "#### Prikaz distribucije podataka"
   ]
  },
  {
   "cell_type": "code",
   "execution_count": 2,
   "metadata": {},
   "outputs": [],
   "source": [
    "import matplotlib.pyplot as plt\n",
    "import seaborn as sns\n",
    "\n",
    "# Kreiraj novu kolonu 'label' za binarnu klasifikaciju\n",
    "df['label'] = df['class'].apply(lambda x: 1 if x == 1 else 0)\n",
    "df = df[['tweet', 'label']]\n",
    "def plot_distribution(data, column):\n",
    "# Prikaži distribuciju klasa\n",
    "    class_counts = data[column].value_counts()\n",
    "    sns.barplot(x=class_counts.index, y=class_counts.values)\n",
    "    plt.title('Distribucija klasa')\n",
    "    plt.xlabel('Klasa (0 = Nije govor mržnje, 1 = Govor mržnje)')\n",
    "    plt.ylabel('Broj primera')\n",
    "    plt.show()"
   ]
  },
  {
   "cell_type": "code",
   "execution_count": 3,
   "metadata": {},
   "outputs": [
    {
     "data": {
      "image/png": "[encoded data removed]",
      "text/plain": [
       "<Figure size 640x480 with 1 Axes>"
      ]
     },
     "metadata": {},
     "output_type": "display_data"
    }
   ],
   "source": [
    "plot_distribution(df, 'label')"
   ]
  },
  {
   "cell_type": "markdown",
   "metadata": {},
   "source": [
    "#### Preprocesiranje teksta"
   ]
  },
  {
   "cell_type": "code",
   "execution_count": 4,
   "metadata": {},
   "outputs": [],
   "source": [
    "def preprocess_text(df, text_column):\n",
    "    \"\"\"\n",
    "    Funkcija za predobradu teksta.\n",
    "    \n",
    "    Argumenti:\n",
    "    - df: Pandas DataFrame koji sadrži kolonu sa tekstom.\n",
    "    - text_column: Ime kolone koja sadrži tekstualne podatke.\n",
    "    \n",
    "    Vraća:\n",
    "    - df: Pandas DataFrame sa novom kolonom 'clean_text' koja sadrži predobrađen tekst.\n",
    "    \"\"\"\n",
    "    # Kopiramo originalni DataFrame da ne bismo menjali originalne podatke\n",
    "    df = df.copy()\n",
    "    \n",
    "    # Uklanjanje URL-ova i email adresa\n",
    "    df['clean_tweet'] = df[text_column].apply(lambda x: re.sub(r'http\\S+|www.\\S+|mailto:\\S+', '', x))\n",
    "    \n",
    "    # Uklanjanje HTML tagova\n",
    "    df['clean_tweet'] = df['clean_tweet'].apply(lambda x: BeautifulSoup(x, \"html.parser\").get_text())\n",
    "    \n",
    "    # Uklanjanje emotikona i specijalnih karaktera\n",
    "    def remove_emojis(text):\n",
    "        emoji_pattern = re.compile(\"[\"\n",
    "                                   u\"\\U0001F600-\\U0001F64F\"  # emotikoni\n",
    "                                   u\"\\U0001F300-\\U0001F5FF\"  # simobli i ikone\n",
    "                                   u\"\\U0001F680-\\U0001F6FF\"  # transport i simobli\n",
    "                                   u\"\\U0001F1E0-\\U0001F1FF\"  # zastave\n",
    "                                   \"]+\", flags=re.UNICODE)\n",
    "        return emoji_pattern.sub(r'', text)\n",
    "\n",
    "    df['clean_tweet'] = df['clean_tweet'].apply(remove_emojis)\n",
    "    \n",
    "    # Uklanjanje specijalnih karaktera i interpunkcije\n",
    "    df['clean_tweet'] = df['clean_tweet'].apply(lambda x: re.sub(r'[^A-Za-zšđčćžŠĐČĆŽ ]+', ' ', x))\n",
    "    \n",
    "    # Pretvaranje u mala slova\n",
    "    df['clean_tweet'] = df['clean_tweet'].str.lower()\n",
    "    \n",
    "    # Uklanjanje dijakritika\n",
    "    def remove_diacritics(text):\n",
    "        text = unicodedata.normalize('NFKD', text)\n",
    "        text = ''.join([c for c in text if not unicodedata.combining(c)])\n",
    "        return text\n",
    "\n",
    "    df['clean_tweet'] = df['clean_tweet'].apply(remove_diacritics)\n",
    "    \n",
    "    # Uklanjanje višestrukih razmaka\n",
    "    df['clean_tweet'] = df['clean_tweet'].apply(lambda x: re.sub('\\s+', ' ', x).strip())\n",
    "    \n",
    "    # Tokenizacija\n",
    "    df['tokens'] = df['clean_tweet'].apply(nltk.word_tokenize)\n",
    "    \n",
    "    # Uklanjanje stop-reči\n",
    "    stop_words = set(stopwords.words('english'))  # Ako imaš stop-reči za srpski, zameni ovde\n",
    "    df['tokens'] = df['tokens'].apply(lambda x: [word for word in x if word not in stop_words])\n",
    "    \n",
    "    # Lematizacija\n",
    "    lemmatizer = WordNetLemmatizer()\n",
    "    df['tokens'] = df['tokens'].apply(lambda x: [lemmatizer.lemmatize(word) for word in x])\n",
    "    \n",
    "    # Spajanje tokena nazad u string\n",
    "    df['clean_tweet'] = df['tokens'].apply(lambda x: ' '.join(x))\n",
    "    \n",
    "    # Uklanjanje nepotrebnih kolona\n",
    "    df = df.drop(columns=['tokens'])\n",
    "    \n",
    "    return df\n"
   ]
  },
  {
   "cell_type": "code",
   "execution_count": 5,
   "metadata": {},
   "outputs": [
    {
     "name": "stderr",
     "output_type": "stream",
     "text": [
      "C:\\Users\\Kaca\\AppData\\Local\\Temp\\ipykernel_1456\\2996977020.py:19: MarkupResemblesLocatorWarning: The input looks more like a filename than markup. You may want to open this file and pass the filehandle into Beautiful Soup.\n",
      "  df['clean_tweet'] = df['clean_tweet'].apply(lambda x: BeautifulSoup(x, \"html.parser\").get_text())\n"
     ]
    },
    {
     "name": "stdout",
     "output_type": "stream",
     "text": [
      "                                               tweet  label  \\\n",
      "0  !!! RT @mayasolovely: As a woman you shouldn't...      0   \n",
      "1  !!!!! RT @mleew17: boy dats cold...tyga dwn ba...      1   \n",
      "2  !!!!!!! RT @UrKindOfBrand Dawg!!!! RT @80sbaby...      1   \n",
      "3  !!!!!!!!! RT @C_G_Anderson: @viva_based she lo...      1   \n",
      "4  !!!!!!!!!!!!! RT @ShenikaRoberts: The shit you...      1   \n",
      "\n",
      "                                         clean_tweet  \n",
      "0  rt mayasolovely woman complain cleaning house ...  \n",
      "1  rt mleew boy dat cold tyga dwn bad cuffin dat ...  \n",
      "2  rt urkindofbrand dawg rt sbaby life ever fuck ...  \n",
      "3        rt c g anderson viva based look like tranny  \n",
      "4  rt shenikaroberts shit hear might true might f...  \n"
     ]
    }
   ],
   "source": [
    "data = preprocess_text(df, 'tweet')\n",
    "\n",
    "print(data.head())"
   ]
  },
  {
   "cell_type": "markdown",
   "metadata": {},
   "source": [
    "#### Definisanje metoda mašinskog učenja"
   ]
  },
  {
   "cell_type": "code",
   "execution_count": 6,
   "metadata": {},
   "outputs": [],
   "source": [
    "from sklearn.feature_extraction.text import TfidfVectorizer\n",
    "from sklearn.linear_model import LogisticRegression\n",
    "from sklearn.svm import SVC\n",
    "from sklearn.naive_bayes import MultinomialNB\n",
    "\n",
    "def train_logistic_regression(X_train, y_train, X_test, y_test):\n",
    "    print(\"Logistička regresija: \")\n",
    "    model = LogisticRegression(max_iter=1000)\n",
    "    model.fit(X_train, y_train)\n",
    "    y_pred = model.predict(X_test)\n",
    "    return model\n",
    "\n",
    "def train_svm(X_train, y_train, X_test, y_test):\n",
    "    print(\"SVM: \")\n",
    "    model = SVC()\n",
    "    model.fit(X_train, y_train)\n",
    "    y_pred = model.predict(X_test)\n",
    "    return model\n",
    "\n",
    "def train_naive_bayes(X_train, y_train, X_test, y_test):\n",
    "    print(\"Naive Bayes: \")\n",
    "    model = MultinomialNB()\n",
    "    model.fit(X_train, y_train)\n",
    "    y_pred = model.predict(X_test)\n",
    "    return model\n"
   ]
  },
  {
   "cell_type": "markdown",
   "metadata": {},
   "source": [
    "#### Definisanje neuronskih mreža"
   ]
  },
  {
   "cell_type": "code",
   "execution_count": 7,
   "metadata": {},
   "outputs": [],
   "source": [
    "from tensorflow.keras.preprocessing.text import Tokenizer\n",
    "from tensorflow.keras.preprocessing.sequence import pad_sequences\n",
    "from tensorflow.keras.models import Sequential\n",
    "from tensorflow.keras.layers import Embedding, LSTM, Dense, Conv1D, MaxPooling1D, Flatten, Dropout\n",
    "\n",
    "def prepare_tokenizer(texts, num_words=5000):\n",
    "    tokenizer = Tokenizer(num_words=num_words)\n",
    "    tokenizer.fit_on_texts(texts)\n",
    "    return tokenizer\n",
    "\n",
    "def tokenize_and_pad(tokenizer, texts, maxlen=100):\n",
    "    sequences = tokenizer.texts_to_sequences(texts)\n",
    "    padded = pad_sequences(sequences, maxlen=maxlen)\n",
    "    return padded\n",
    "\n",
    "def train_lstm(X_train, y_train, X_test, y_test, vocab_size, maxlen=100):\n",
    "    print(\"LSTM: \")\n",
    "    model = Sequential()\n",
    "    model.add(Embedding(input_dim=vocab_size, output_dim=128, input_length=maxlen))\n",
    "    model.add(LSTM(units=128, dropout=0.2, recurrent_dropout=0.2))\n",
    "    model.add(Dense(units=1, activation='sigmoid'))\n",
    "    model.compile(loss='binary_crossentropy', optimizer='adam', metrics=['accuracy'])\n",
    "    model.fit(X_train, y_train, validation_data=(X_test, y_test), epochs=5, batch_size=64)\n",
    "    loss, accuracy = model.evaluate(X_test, y_test)\n",
    "    print(f'LSTM Test Accuracy: {accuracy}')\n",
    "    \n",
    "    return model\n",
    "\n",
    "def train_cnn(X_train, y_train, X_test, y_test, vocab_size, maxlen=100):\n",
    "    print(\"CNN: \")\n",
    "    model = Sequential()\n",
    "    model.add(Embedding(input_dim=vocab_size, output_dim=128, input_length=maxlen))\n",
    "    model.add(Conv1D(filters=128, kernel_size=5, activation='relu'))\n",
    "    model.add(MaxPooling1D(pool_size=2))\n",
    "    model.add(Flatten())\n",
    "    model.add(Dense(units=1, activation='sigmoid'))\n",
    "    model.compile(loss='binary_crossentropy', optimizer='adam', metrics=['accuracy'])\n",
    "    model.fit(X_train, y_train, validation_data=(X_test, y_test), epochs=5, batch_size=64)\n",
    "    loss, accuracy = model.evaluate(X_test, y_test)\n",
    "    print(f'CNN Test Accuracy: {accuracy}')\n",
    "    return model\n"
   ]
  },
  {
   "cell_type": "code",
   "execution_count": 8,
   "metadata": {},
   "outputs": [],
   "source": [
    "from sklearn.metrics import classification_report, confusion_matrix, accuracy_score\n",
    "\n",
    "def evaluate_model(model, X_test, y_test, model_type='sklearn', tokenizer=None, maxlen=100):\n",
    "    \"\"\"\n",
    "    Evaluira model i prikazuje metrike performansi.\n",
    "    \n",
    "    Argumenti:\n",
    "    - model: istrenirani model\n",
    "    - X_test: test podaci (tekstualni ili vektorski)\n",
    "    - y_test: stvarne labela\n",
    "    - model_type: 'sklearn', 'keras', ili 'bert'\n",
    "    - tokenizer: Tokenizer objekat (potreban za neuronske mreže)\n",
    "    - maxlen: maksimalna dužina sekvenci (za neuronske mreže)\n",
    "    \"\"\"\n",
    "    if model_type == 'sklearn':\n",
    "        y_pred = model.predict(X_test)\n",
    "    elif model_type == 'keras':\n",
    "        y_pred = (model.predict(X_test) > 0.5).astype(\"int32\")\n",
    "    elif model_type == 'bert':\n",
    "        y_pred = model.predict(X_test).logits\n",
    "        y_pred = np.argmax(y_pred, axis=1)\n",
    "    else:\n",
    "        raise ValueError(\"Nepoznat tip modela.\")\n",
    "    \n",
    "    print(\"Izveštaj o klasifikaciji:\")\n",
    "    print(classification_report(y_test, y_pred))\n",
    "    print(\"Matrica konfuzije:\")\n",
    "    print(confusion_matrix(y_test, y_pred))\n"
   ]
  },
  {
   "cell_type": "markdown",
   "metadata": {},
   "source": [
    "### Definisanje funkcija za primenu metoda"
   ]
  },
  {
   "cell_type": "code",
   "execution_count": 9,
   "metadata": {},
   "outputs": [],
   "source": [
    "def create_vectorizer(X_train, X_test):\n",
    "    vectorizer = TfidfVectorizer(max_features=5000)\n",
    "    X_train_vec = vectorizer.fit_transform(X_train)\n",
    "    X_test_vec = vectorizer.transform(X_test)\n",
    "\n",
    "    return X_train_vec, X_test_vec\n",
    "\n",
    "def create_tokenizer(X_train, X_test):\n",
    "    tokenizer = prepare_tokenizer(X_train, num_words=5000)\n",
    "    X_train_seq = tokenize_and_pad(tokenizer, X_train)\n",
    "    X_test_seq = tokenize_and_pad(tokenizer, X_test)\n",
    "    vocab_size = len(tokenizer.word_index) + 1  \n",
    "\n",
    "    return X_train_seq, X_test_seq, vocab_size"
   ]
  },
  {
   "cell_type": "code",
   "execution_count": 10,
   "metadata": {},
   "outputs": [],
   "source": [
    "def train_classification_models(X_train_vec, y_train, X_test_vec, y_test):\n",
    "    lr_model = train_logistic_regression(X_train_vec, y_train, X_test_vec, y_test)\n",
    "    evaluate_model(lr_model, X_test_vec, y_test, model_type='sklearn')\n",
    "\n",
    "    svm_model = train_svm(X_train_vec, y_train, X_test_vec, y_test)\n",
    "    evaluate_model(svm_model, X_test_vec, y_test, model_type='sklearn')\n",
    "\n",
    "    nb_model = train_naive_bayes(X_train_vec, y_train, X_test_vec, y_test)\n",
    "    evaluate_model(nb_model, X_test_vec, y_test, model_type='sklearn')\n",
    "\n",
    "def train_neural_networks(X_train_seq, y_train, X_test_seq, y_test, vocab_size):\n",
    "    lstm_model = train_lstm(X_train_seq, y_train, X_test_seq, y_test, vocab_size)\n",
    "    evaluate_model(lstm_model, X_test_seq, y_test, model_type='keras')\n",
    "\n",
    "    cnn_model = train_cnn(X_train_seq, y_train, X_test_seq, y_test, vocab_size)\n",
    "    evaluate_model(cnn_model, X_test_seq, y_test, model_type='keras')"
   ]
  },
  {
   "cell_type": "code",
   "execution_count": 11,
   "metadata": {},
   "outputs": [],
   "source": [
    "def run(X, y):\n",
    "    X_train, X_test, y_train, y_test = train_test_split(X, y, test_size=0.2, random_state=42)\n",
    "    X_train_vec, X_test_vec = create_vectorizer(X_train, X_test)\n",
    "    X_train_seq, X_test_seq, vocab_size = create_tokenizer(X_train, X_test)\n",
    "\n",
    "    train_classification_models(X_train_vec, y_train, X_test_vec, y_test)\n",
    "    train_neural_networks(X_train_seq, y_train, X_test_seq, y_test, vocab_size)"
   ]
  },
  {
   "cell_type": "markdown",
   "metadata": {},
   "source": [
    "### Primena algoritama nad originalnim podacima"
   ]
  },
  {
   "cell_type": "code",
   "execution_count": null,
   "metadata": {},
   "outputs": [
    {
     "name": "stdout",
     "output_type": "stream",
     "text": [
      "Logistička regresija: \n",
      "Izveštaj o klasifikaciji:\n",
      "              precision    recall  f1-score   support\n",
      "\n",
      "           0       0.81      0.72      0.76      1125\n",
      "           1       0.92      0.95      0.93      3832\n",
      "\n",
      "    accuracy                           0.90      4957\n",
      "   macro avg       0.86      0.84      0.85      4957\n",
      "weighted avg       0.90      0.90      0.90      4957\n",
      "\n",
      "Matrica konfuzije:\n",
      "[[ 813  312]\n",
      " [ 195 3637]]\n",
      "SVM: \n",
      "Izveštaj o klasifikaciji:\n",
      "              precision    recall  f1-score   support\n",
      "\n",
      "           0       0.81      0.75      0.78      1125\n",
      "           1       0.93      0.95      0.94      3832\n",
      "\n",
      "    accuracy                           0.90      4957\n",
      "   macro avg       0.87      0.85      0.86      4957\n",
      "weighted avg       0.90      0.90      0.90      4957\n",
      "\n",
      "Matrica konfuzije:\n",
      "[[ 847  278]\n",
      " [ 204 3628]]\n",
      "Naive Bayes: \n",
      "Izveštaj o klasifikaciji:\n",
      "              precision    recall  f1-score   support\n",
      "\n",
      "           0       0.87      0.37      0.52      1125\n",
      "           1       0.84      0.98      0.91      3832\n",
      "\n",
      "    accuracy                           0.84      4957\n",
      "   macro avg       0.86      0.68      0.71      4957\n",
      "weighted avg       0.85      0.84      0.82      4957\n",
      "\n",
      "Matrica konfuzije:\n",
      "[[ 416  709]\n",
      " [  63 3769]]\n",
      "LSTM: \n"
     ]
    },
    {
     "name": "stderr",
     "output_type": "stream",
     "text": [
      "c:\\Users\\Kaca\\Desktop\\Master\\Prikupljanje i predobrada podataka za mašinsko učenje\\Seminarski 2\\predobrada\\Lib\\site-packages\\keras\\src\\layers\\core\\embedding.py:90: UserWarning: Argument `input_length` is deprecated. Just remove it.\n",
      "  warnings.warn(\n"
     ]
    },
    {
     "name": "stdout",
     "output_type": "stream",
     "text": [
      "Epoch 1/5\n",
      "\u001b[1m310/310\u001b[0m \u001b[32m━━━━━━━━━━━━━━━━━━━━\u001b[0m\u001b[37m\u001b[0m \u001b[1m122s\u001b[0m 371ms/step - accuracy: 0.8336 - loss: 0.3834 - val_accuracy: 0.9046 - val_loss: 0.2442\n",
      "Epoch 2/5\n",
      "\u001b[1m310/310\u001b[0m \u001b[32m━━━━━━━━━━━━━━━━━━━━\u001b[0m\u001b[37m\u001b[0m \u001b[1m130s\u001b[0m 420ms/step - accuracy: 0.9223 - loss: 0.2126 - val_accuracy: 0.9050 - val_loss: 0.2490\n",
      "Epoch 3/5\n",
      "\u001b[1m310/310\u001b[0m \u001b[32m━━━━━━━━━━━━━━━━━━━━\u001b[0m\u001b[37m\u001b[0m \u001b[1m134s\u001b[0m 431ms/step - accuracy: 0.9441 - loss: 0.1660 - val_accuracy: 0.8985 - val_loss: 0.2648\n",
      "Epoch 4/5\n",
      "\u001b[1m310/310\u001b[0m \u001b[32m━━━━━━━━━━━━━━━━━━━━\u001b[0m\u001b[37m\u001b[0m \u001b[1m115s\u001b[0m 372ms/step - accuracy: 0.9525 - loss: 0.1501 - val_accuracy: 0.8965 - val_loss: 0.3014\n",
      "Epoch 5/5\n",
      "\u001b[1m310/310\u001b[0m \u001b[32m━━━━━━━━━━━━━━━━━━━━\u001b[0m\u001b[37m\u001b[0m \u001b[1m100s\u001b[0m 322ms/step - accuracy: 0.9545 - loss: 0.1317 - val_accuracy: 0.8935 - val_loss: 0.3383\n",
      "\u001b[1m155/155\u001b[0m \u001b[32m━━━━━━━━━━━━━━━━━━━━\u001b[0m\u001b[37m\u001b[0m \u001b[1m10s\u001b[0m 64ms/step - accuracy: 0.8980 - loss: 0.3289\n",
      "LSTM Test Accuracy: 0.8934839367866516\n",
      "\u001b[1m155/155\u001b[0m \u001b[32m━━━━━━━━━━━━━━━━━━━━\u001b[0m\u001b[37m\u001b[0m \u001b[1m11s\u001b[0m 68ms/step\n",
      "Izveštaj o klasifikaciji:\n",
      "              precision    recall  f1-score   support\n",
      "\n",
      "           0       0.79      0.73      0.76      1125\n",
      "           1       0.92      0.94      0.93      3832\n",
      "\n",
      "    accuracy                           0.89      4957\n",
      "   macro avg       0.85      0.84      0.84      4957\n",
      "weighted avg       0.89      0.89      0.89      4957\n",
      "\n",
      "Matrica konfuzije:\n",
      "[[ 820  305]\n",
      " [ 223 3609]]\n",
      "CNN: \n"
     ]
    },
    {
     "name": "stderr",
     "output_type": "stream",
     "text": [
      "c:\\Users\\Kaca\\Desktop\\Master\\Prikupljanje i predobrada podataka za mašinsko učenje\\Seminarski 2\\predobrada\\Lib\\site-packages\\keras\\src\\layers\\core\\embedding.py:90: UserWarning: Argument `input_length` is deprecated. Just remove it.\n",
      "  warnings.warn(\n"
     ]
    },
    {
     "name": "stdout",
     "output_type": "stream",
     "text": [
      "Epoch 1/5\n",
      "\u001b[1m310/310\u001b[0m \u001b[32m━━━━━━━━━━━━━━━━━━━━\u001b[0m\u001b[37m\u001b[0m \u001b[1m40s\u001b[0m 119ms/step - accuracy: 0.8374 - loss: 0.3951 - val_accuracy: 0.9024 - val_loss: 0.2608\n",
      "Epoch 2/5\n",
      "\u001b[1m310/310\u001b[0m \u001b[32m━━━━━━━━━━━━━━━━━━━━\u001b[0m\u001b[37m\u001b[0m \u001b[1m37s\u001b[0m 120ms/step - accuracy: 0.9273 - loss: 0.2122 - val_accuracy: 0.8963 - val_loss: 0.2674\n",
      "Epoch 3/5\n",
      "\u001b[1m310/310\u001b[0m \u001b[32m━━━━━━━━━━━━━━━━━━━━\u001b[0m\u001b[37m\u001b[0m \u001b[1m40s\u001b[0m 129ms/step - accuracy: 0.9514 - loss: 0.1526 - val_accuracy: 0.8892 - val_loss: 0.3048\n",
      "Epoch 4/5\n",
      "\u001b[1m310/310\u001b[0m \u001b[32m━━━━━━━━━━━━━━━━━━━━\u001b[0m\u001b[37m\u001b[0m \u001b[1m36s\u001b[0m 116ms/step - accuracy: 0.9713 - loss: 0.0848 - val_accuracy: 0.8777 - val_loss: 0.3762\n",
      "Epoch 5/5\n",
      "\u001b[1m310/310\u001b[0m \u001b[32m━━━━━━━━━━━━━━━━━━━━\u001b[0m\u001b[37m\u001b[0m \u001b[1m36s\u001b[0m 117ms/step - accuracy: 0.9851 - loss: 0.0488 - val_accuracy: 0.8679 - val_loss: 0.4806\n",
      "\u001b[1m155/155\u001b[0m \u001b[32m━━━━━━━━━━━━━━━━━━━━\u001b[0m\u001b[37m\u001b[0m \u001b[1m2s\u001b[0m 12ms/step - accuracy: 0.8717 - loss: 0.4688\n",
      "CNN Test Accuracy: 0.867863655090332\n",
      "\u001b[1m155/155\u001b[0m \u001b[32m━━━━━━━━━━━━━━━━━━━━\u001b[0m\u001b[37m\u001b[0m \u001b[1m2s\u001b[0m 11ms/step\n",
      "Izveštaj o klasifikaciji:\n",
      "              precision    recall  f1-score   support\n",
      "\n",
      "           0       0.72      0.68      0.70      1125\n",
      "           1       0.91      0.92      0.92      3832\n",
      "\n",
      "    accuracy                           0.87      4957\n",
      "   macro avg       0.81      0.80      0.81      4957\n",
      "weighted avg       0.87      0.87      0.87      4957\n",
      "\n",
      "Matrica konfuzije:\n",
      "[[ 769  356]\n",
      " [ 299 3533]]\n"
     ]
    }
   ],
   "source": [
    "X = data['clean_tweet']\n",
    "y = data['label']\n",
    "\n",
    "run(X, y)"
   ]
  },
  {
   "cell_type": "markdown",
   "metadata": {},
   "source": [
    "### Augmentacija podataka"
   ]
  },
  {
   "cell_type": "markdown",
   "metadata": {},
   "source": [
    "### Importovanje potrebnih biblioteka"
   ]
  },
  {
   "cell_type": "code",
   "execution_count": 14,
   "metadata": {},
   "outputs": [],
   "source": [
    "import pandas as pd\n",
    "import numpy as np\n",
    "import random\n",
    "import string\n",
    "import nltk\n",
    "from nltk.corpus import wordnet\n"
   ]
  },
  {
   "cell_type": "markdown",
   "metadata": {},
   "source": [
    "### Definisanje metoda augmentacije podataka"
   ]
  },
  {
   "cell_type": "markdown",
   "metadata": {},
   "source": [
    "#### Metode augmentacije na nivou karaktera"
   ]
  },
  {
   "cell_type": "code",
   "execution_count": 15,
   "metadata": {},
   "outputs": [],
   "source": [
    "def simulate_spelling_errors(text, error_prob=0.1):\n",
    "    \"\"\"\n",
    "    Simulira pravopisne greške u tekstu.\n",
    "    \n",
    "    Argumenti:\n",
    "    - text: Originalni tekst.\n",
    "    - error_prob: Verovatnoća da će svaki karakter biti izmenjen.\n",
    "    \n",
    "    Vraća:\n",
    "    - Tekst sa simuliranim pravopisnim greškama.\n",
    "    \"\"\"\n",
    "    letters = 'abcdefghijklmnopqrstuvwxyz'\n",
    "    result = ''\n",
    "    for c in text:\n",
    "        if c.lower() in letters and random.random() < error_prob:\n",
    "            result += random.choice(letters)\n",
    "        else:\n",
    "            result += c\n",
    "    return result\n"
   ]
  },
  {
   "cell_type": "code",
   "execution_count": 16,
   "metadata": {},
   "outputs": [],
   "source": [
    "def keyboard_augmenter(text, error_prob=0.1):\n",
    "    \"\"\"\n",
    "    Simulira greške u kucanju na osnovu rasporeda tastature.\n",
    "    \n",
    "    Argumenti:\n",
    "    - text: Originalni tekst.\n",
    "    - error_prob: Verovatnoća da će svaki karakter biti zamenjen.\n",
    "    \n",
    "    Vraća:\n",
    "    - Tekst sa simuliranim greškama u kucanju.\n",
    "    \"\"\"\n",
    "    keyboard_neighbors = {\n",
    "        'a': 'qwsz',\n",
    "        'b': 'vghn',\n",
    "        'c': 'xdfv',\n",
    "        'd': 'ersfcx',\n",
    "        'e': 'wsdfr',\n",
    "        'f': 'rtgdvc',\n",
    "        'g': 'tyfhvb',\n",
    "        'h': 'yugjbn',\n",
    "        'i': 'ujklo',\n",
    "        'j': 'uikhmn',\n",
    "        'k': 'ijolm,',\n",
    "        'l': 'kop;.',\n",
    "        'm': 'njk,',\n",
    "        'n': 'bhjm',\n",
    "        'o': 'iklp',\n",
    "        'p': 'ol;',\n",
    "        'q': 'wa',\n",
    "        'r': 'edft',\n",
    "        's': 'wedxz',\n",
    "        't': 'rfgy',\n",
    "        'u': 'yhji',\n",
    "        'v': 'cfgb',\n",
    "        'w': 'qase',\n",
    "        'x': 'zsdc',\n",
    "        'y': 'tghu',\n",
    "        'z': 'asx'\n",
    "    }\n",
    "    result = ''\n",
    "    for c in text:\n",
    "        lower_c = c.lower()\n",
    "        if lower_c in keyboard_neighbors and random.random() < error_prob:\n",
    "            result += random.choice(keyboard_neighbors[lower_c])\n",
    "        else:\n",
    "            result += c\n",
    "    return result\n"
   ]
  },
  {
   "cell_type": "code",
   "execution_count": 17,
   "metadata": {},
   "outputs": [],
   "source": [
    "def ocr_simulation(text, error_prob=0.05):\n",
    "    \"\"\"\n",
    "    Simulira OCR greške u tekstu.\n",
    "    \n",
    "    Argumenti:\n",
    "    - text: Originalni tekst.\n",
    "    - error_prob: Verovatnoća da će svaki karakter biti zamenjen.\n",
    "    \n",
    "    Vraća:\n",
    "    - Tekst sa simuliranim OCR greškama.\n",
    "    \"\"\"\n",
    "    ocr_errors = {\n",
    "        '0': ['O', 'o'],\n",
    "        '1': ['I', 'l'],\n",
    "        'l': ['1', 'I'],\n",
    "        'O': ['0', 'o'],\n",
    "        'o': ['0', 'O'],\n",
    "        'I': ['1', 'l']\n",
    "    }\n",
    "    result = ''\n",
    "    for c in text:\n",
    "        if c in ocr_errors and random.random() < error_prob:\n",
    "            result += random.choice(ocr_errors[c])\n",
    "        else:\n",
    "            result += c\n",
    "    return result\n"
   ]
  },
  {
   "cell_type": "code",
   "execution_count": 18,
   "metadata": {},
   "outputs": [],
   "source": [
    "def random_character_augmentation(text, aug_prob=0.1):\n",
    "    \"\"\"\n",
    "    Nasumična augmentacija karaktera u tekstu.\n",
    "    \n",
    "    Argumenti:\n",
    "    - text: Originalni tekst.\n",
    "    - aug_prob: Verovatnoća da će svaka operacija biti primenjena na karakter.\n",
    "    \n",
    "    Vraća:\n",
    "    - Augmentirani tekst.\n",
    "    \"\"\"\n",
    "    functions = [delete_random_char, substitute_random_char, swap_random_chars, insert_random_char]\n",
    "    augmented_text = text\n",
    "    for func in functions:\n",
    "        augmented_text = func(augmented_text, aug_prob)\n",
    "    return augmented_text\n",
    "\n",
    "def delete_random_char(text, aug_prob):\n",
    "    result = ''\n",
    "    for c in text:\n",
    "        if random.random() > aug_prob:\n",
    "            result += c\n",
    "    return result\n",
    "\n",
    "def substitute_random_char(text, aug_prob):\n",
    "    letters = string.ascii_letters\n",
    "    result = ''\n",
    "    for c in text:\n",
    "        if random.random() < aug_prob:\n",
    "            result += random.choice(letters)\n",
    "        else:\n",
    "            result += c\n",
    "    return result\n",
    "\n",
    "def swap_random_chars(text, aug_prob):\n",
    "    text = list(text)\n",
    "    for i in range(len(text)-1):\n",
    "        if random.random() < aug_prob:\n",
    "            text[i], text[i+1] = text[i+1], text[i]\n",
    "    return ''.join(text)\n",
    "\n",
    "def insert_random_char(text, aug_prob):\n",
    "    result = ''\n",
    "    letters = string.ascii_letters\n",
    "    for c in text:\n",
    "        result += c\n",
    "        if random.random() < aug_prob:\n",
    "            result += random.choice(letters)\n",
    "    return result\n"
   ]
  },
  {
   "cell_type": "markdown",
   "metadata": {},
   "source": [
    "#### Metode augmentacije na nivou reči"
   ]
  },
  {
   "cell_type": "code",
   "execution_count": 19,
   "metadata": {},
   "outputs": [],
   "source": [
    "def synonym_replacement(text, n=2):\n",
    "    \"\"\"\n",
    "    Zamenjuje n reči njihovim sinonimima.\n",
    "    \n",
    "    Argumenti:\n",
    "    - text: Originalni tekst.\n",
    "    - n: Broj reči koje će biti zamenjene.\n",
    "    \n",
    "    Vraća:\n",
    "    - Tekst sa zamenjenim sinonimima.\n",
    "    \"\"\"\n",
    "    words = text.split()\n",
    "    new_words = words.copy()\n",
    "    random_word_list = list(set(words))\n",
    "    random.shuffle(random_word_list)\n",
    "    num_replaced = 0\n",
    "    for random_word in random_word_list:\n",
    "        synonyms = get_synonyms(random_word)\n",
    "        if len(synonyms) >= 1:\n",
    "            synonym = random.choice(synonyms)\n",
    "            new_words = [synonym if word == random_word else word for word in new_words]\n",
    "            num_replaced += 1\n",
    "        if num_replaced >= n:\n",
    "            break\n",
    "    augmented_text = ' '.join(new_words)\n",
    "    return augmented_text\n",
    "\n",
    "def get_synonyms(word):\n",
    "    synonyms = set()\n",
    "    for syn in wordnet.synsets(word):\n",
    "        for lem in syn.lemmas():\n",
    "            synonym = lem.name().replace('_', ' ').lower()\n",
    "            if synonym != word:\n",
    "                synonyms.add(synonym)\n",
    "    return list(synonyms)\n"
   ]
  },
  {
   "cell_type": "code",
   "execution_count": 20,
   "metadata": {},
   "outputs": [],
   "source": [
    "def antonym_replacement(text, n=2):\n",
    "    \"\"\"\n",
    "    Zamenjuje n reči njihovim antonimima.\n",
    "    \n",
    "    Argumenti:\n",
    "    - text: Originalni tekst.\n",
    "    - n: Broj reči koje će biti zamenjene.\n",
    "    \n",
    "    Vraća:\n",
    "    - Tekst sa zamenjenim antonimima.\n",
    "    \"\"\"\n",
    "    words = text.split()\n",
    "    new_words = words.copy()\n",
    "    random_word_list = list(set(words))\n",
    "    random.shuffle(random_word_list)\n",
    "    num_replaced = 0\n",
    "    for random_word in random_word_list:\n",
    "        antonyms = get_antonyms(random_word)\n",
    "        if len(antonyms) >= 1:\n",
    "            antonym = random.choice(antonyms)\n",
    "            new_words = [antonym if word == random_word else word for word in new_words]\n",
    "            num_replaced += 1\n",
    "        if num_replaced >= n:\n",
    "            break\n",
    "    augmented_text = ' '.join(new_words)\n",
    "    return augmented_text\n",
    "\n",
    "def get_antonyms(word):\n",
    "    antonyms = set()\n",
    "    for syn in wordnet.synsets(word):\n",
    "        for lem in syn.lemmas():\n",
    "            for ant in lem.antonyms():\n",
    "                antonym = ant.name().replace('_', ' ').lower()\n",
    "                antonyms.add(antonym)\n",
    "    return list(antonyms)\n"
   ]
  },
  {
   "cell_type": "code",
   "execution_count": 21,
   "metadata": {},
   "outputs": [],
   "source": [
    "def random_insertion(text, n=2):\n",
    "    \"\"\"\n",
    "    Umeće n sinonima nasumično u tekst.\n",
    "    \n",
    "    Argumenti:\n",
    "    - text: Originalni tekst.\n",
    "    - n: Broj reči koje će biti umetnute.\n",
    "    \n",
    "    Vraća:\n",
    "    - Tekst sa umetnutim rečima.\n",
    "    \"\"\"\n",
    "    words = text.split()\n",
    "    for _ in range(n):\n",
    "        add_word(words)\n",
    "    augmented_text = ' '.join(words)\n",
    "    return augmented_text\n",
    "\n",
    "def add_word(words):\n",
    "    synonyms = []\n",
    "    counter = 0\n",
    "    while len(synonyms) < 1 and counter < 10:\n",
    "        random_word = words[random.randint(0, len(words)-1)]\n",
    "        synonyms = get_synonyms(random_word)\n",
    "        counter += 1\n",
    "    if len(synonyms) >= 1:\n",
    "        synonym = random.choice(synonyms)\n",
    "        random_idx = random.randint(0, len(words))\n",
    "        words.insert(random_idx, synonym)\n"
   ]
  },
  {
   "cell_type": "code",
   "execution_count": 22,
   "metadata": {},
   "outputs": [],
   "source": [
    "def random_swap(text, n=2):\n",
    "    \"\"\"\n",
    "    Menja mesta dvema rečima u tekstu n puta.\n",
    "    \n",
    "    Argumenti:\n",
    "    - text: Originalni tekst.\n",
    "    - n: Broj zamena.\n",
    "    \n",
    "    Vraća:\n",
    "    - Tekst sa zamenjenim rečima.\n",
    "    \"\"\"\n",
    "    words = text.split()\n",
    "    for _ in range(n):\n",
    "        words = swap_word(words)\n",
    "    augmented_text = ' '.join(words)\n",
    "    return augmented_text\n",
    "\n",
    "def swap_word(words):\n",
    "    idx1 = random.randint(0, len(words)-1)\n",
    "    idx2 = random.randint(0, len(words)-1)\n",
    "    words[idx1], words[idx2] = words[idx2], words[idx1]\n",
    "    return words\n"
   ]
  },
  {
   "cell_type": "code",
   "execution_count": 23,
   "metadata": {},
   "outputs": [],
   "source": [
    "def random_deletion(text, p=0.2):\n",
    "    \"\"\"\n",
    "    Briše reči iz teksta sa verovatnoćom p.\n",
    "    \n",
    "    Argumenti:\n",
    "    - text: Originalni tekst.\n",
    "    - p: Verovatnoća brisanja reči.\n",
    "    \n",
    "    Vraća:\n",
    "    - Tekst sa obrisanim rečima.\n",
    "    \"\"\"\n",
    "    words = text.split()\n",
    "    if len(words) == 1:\n",
    "        return text\n",
    "    new_words = []\n",
    "    for word in words:\n",
    "        if random.uniform(0,1) > p:\n",
    "            new_words.append(word)\n",
    "    if len(new_words) == 0:\n",
    "        return random.choice(words)\n",
    "    else:\n",
    "        return ' '.join(new_words)\n"
   ]
  },
  {
   "cell_type": "code",
   "execution_count": 24,
   "metadata": {},
   "outputs": [],
   "source": [
    "def split_augmentation(text, n=2):\n",
    "    \"\"\"\n",
    "    Deli n reči na manje delove.\n",
    "    \n",
    "    Argumenti:\n",
    "    - text: Originalni tekst.\n",
    "    - n: Broj reči koje će biti podeljene.\n",
    "    \n",
    "    Vraća:\n",
    "    - Tekst sa podeljenim rečima.\n",
    "    \"\"\"\n",
    "    words = text.split()\n",
    "    new_words = words.copy()\n",
    "    num_splits = 0\n",
    "    while num_splits < n:\n",
    "        idx = random.randint(0, len(new_words)-1)\n",
    "        word = new_words[idx]\n",
    "        if len(word) > 1:\n",
    "            split_point = random.randint(1, len(word)-1)\n",
    "            new_words[idx:idx+1] = [word[:split_point], word[split_point:]]\n",
    "            num_splits += 1\n",
    "        if num_splits >= n:\n",
    "            break\n",
    "    return ' '.join(new_words)\n"
   ]
  },
  {
   "cell_type": "code",
   "execution_count": 25,
   "metadata": {},
   "outputs": [],
   "source": [
    "def spelling_augmentation(text, error_prob=0.1):\n",
    "    \"\"\"\n",
    "    Umeće pravopisne greške u reči.\n",
    "    \n",
    "    Argumenti:\n",
    "    - text: Originalni tekst.\n",
    "    - error_prob: Verovatnoća da će reč biti izmenjena.\n",
    "    \n",
    "    Vraća:\n",
    "    - Tekst sa pravopisnim greškama.\n",
    "    \"\"\"\n",
    "    words = text.split()\n",
    "    new_words = []\n",
    "    for word in words:\n",
    "        if random.random() < error_prob:\n",
    "            new_word = random_character_augmentation(word, aug_prob=0.2)\n",
    "            new_words.append(new_word)\n",
    "        else:\n",
    "            new_words.append(word)\n",
    "    return ' '.join(new_words)\n"
   ]
  },
  {
   "cell_type": "markdown",
   "metadata": {},
   "source": [
    "#### Metode augmentacije na nivu fraza i rečenica"
   ]
  },
  {
   "cell_type": "code",
   "execution_count": 26,
   "metadata": {},
   "outputs": [],
   "source": [
    "def random_sentence_augmentation(text):\n",
    "    \"\"\"\n",
    "    Nasumično menja redosled rečenica u tekstu.\n",
    "    \n",
    "    Argumenti:\n",
    "    - text: Originalni tekst.\n",
    "    \n",
    "    Vraća:\n",
    "    - Tekst sa promenjenim redosledom rečenica.\n",
    "    \"\"\"\n",
    "    sentences = nltk.sent_tokenize(text)\n",
    "    random.shuffle(sentences)\n",
    "    return ' '.join(sentences)\n"
   ]
  },
  {
   "cell_type": "code",
   "execution_count": 27,
   "metadata": {},
   "outputs": [],
   "source": [
    "def generate_text_gpt2(prompt, max_length=50):\n",
    "    \"\"\"\n",
    "    Generiše tekst koristeći GPT-2 model.\n",
    "    \n",
    "    Argumenti:\n",
    "    - prompt: Početni tekst.\n",
    "    - max_length: Maksimalna dužina generisanog teksta.\n",
    "    \n",
    "    Vraća:\n",
    "    - Generisani tekst.\n",
    "    \"\"\"\n",
    "    generator = pipeline('text-generation', model='gpt2')\n",
    "    outputs = generator(prompt, max_length=max_length, num_return_sequences=1)\n",
    "    return outputs[0]['generated_text']\n"
   ]
  },
  {
   "cell_type": "markdown",
   "metadata": {},
   "source": [
    "#### Primena metoda nad augmentiranim podacima"
   ]
  },
  {
   "cell_type": "code",
   "execution_count": 28,
   "metadata": {},
   "outputs": [],
   "source": [
    "from tqdm import tqdm\n",
    "def augment_dataset(df, text_column, method, num_augmented_instances, **kwargs):\n",
    "    \"\"\"\n",
    "    Primeni izabranu metodu augmentacije na dataset.\n",
    "    \n",
    "    Argumenti:\n",
    "    - df: Originalni DataFrame.\n",
    "    - text_column: Naziv kolone sa tekstom.\n",
    "    - method: Funkcija metode augmentacije.\n",
    "    - num_augmented_instances: Broj instanci koje treba generisati.\n",
    "    - **kwargs: Dodatni argumenti za metodu augmentacije.\n",
    "    \n",
    "    Vraća:\n",
    "    - DataFrame sa augmentiranim podacima.\n",
    "    \"\"\"\n",
    "    augmented_texts = []\n",
    "    indices = df.index.tolist()\n",
    "    num_samples = len(indices)\n",
    "    \n",
    "    # Ako je broj instanci veći od broja dostupnih uzoraka, uzmi uzorke sa zamjenom\n",
    "    replace = num_augmented_instances > num_samples\n",
    "    sampled_indices = np.random.choice(indices, size=num_augmented_instances, replace=replace)\n",
    "    \n",
    "    for idx in tqdm(sampled_indices, desc=f'Augmenting with {method.__name__}'):\n",
    "        original_text = df.loc[idx, text_column]\n",
    "        augmented_text = method(original_text, **kwargs)\n",
    "        augmented_texts.append(augmented_text)\n",
    "    \n",
    "    augmented_df = pd.DataFrame({text_column: augmented_texts})\n",
    "    return augmented_df\n"
   ]
  },
  {
   "cell_type": "markdown",
   "metadata": {},
   "source": [
    "#### Augmentirani dataset 1"
   ]
  },
  {
   "cell_type": "code",
   "execution_count": 38,
   "metadata": {},
   "outputs": [
    {
     "name": "stderr",
     "output_type": "stream",
     "text": [
      "c:\\Users\\Kaca\\Desktop\\Master\\Prikupljanje i predobrada podataka za mašinsko učenje\\Seminarski 2\\predobrada\\Lib\\site-packages\\numpy\\core\\fromnumeric.py:59: FutureWarning: 'DataFrame.swapaxes' is deprecated and will be removed in a future version. Please use 'DataFrame.transpose' instead.\n",
      "  return bound(*args, **kwds)\n",
      "Augmenting with simulate_spelling_errors: 100%|██████████| 3399/3399 [00:00<00:00, 21882.15it/s]\n",
      "Augmenting with synonym_replacement: 100%|██████████| 3399/3399 [00:03<00:00, 1115.48it/s]\n",
      "Augmenting with random_sentence_augmentation: 100%|██████████| 3399/3399 [00:00<00:00, 49049.18it/s]\n",
      "Augmenting with split_augmentation: 100%|██████████| 3399/3399 [00:00<00:00, 55027.17it/s]\n"
     ]
    },
    {
     "name": "stdout",
     "output_type": "stream",
     "text": [
      "                                                   tweet  label  \\\n",
      "0      !!! RT @mayasolovely: As a woman you shouldn't...      0   \n",
      "1      !!!!! RT @mleew17: boy dats cold...tyga dwn ba...      1   \n",
      "2      !!!!!!! RT @UrKindOfBrand Dawg!!!! RT @80sbaby...      1   \n",
      "3      !!!!!!!!! RT @C_G_Anderson: @viva_based she lo...      1   \n",
      "4      !!!!!!!!!!!!! RT @ShenikaRoberts: The shit you...      1   \n",
      "...                                                  ...    ...   \n",
      "38374                                                NaN      0   \n",
      "38375                                                NaN      0   \n",
      "38376                                                NaN      0   \n",
      "38377                                                NaN      0   \n",
      "38378                                                NaN      0   \n",
      "\n",
      "                                             clean_tweet  \n",
      "0      rt mayasolovely woman complain cleaning house ...  \n",
      "1      rt mleew boy dat cold tyga dwn bad cuffin dat ...  \n",
      "2      rt urkindofbrand dawg rt sbaby life ever fuck ...  \n",
      "3            rt c g anderson viva based look like tranny  \n",
      "4      rt shenikaroberts shit hear might true might f...  \n",
      "...                                                  ...  \n",
      "38374                             rt cw issi beany l ife  \n",
      "38375                      clean dead bir d piece gla ss  \n",
      "38376  rt goddesslaney lajouetreine give sta tement t...  \n",
      "38377  rt yankeeswfan one scout said prado first team...  \n",
      "38378  rt tumblrfunniest throw aw ay pa perball perfe...  \n",
      "\n",
      "[38379 rows x 3 columns]\n"
     ]
    }
   ],
   "source": [
    "import pandas as pd\n",
    "\n",
    "all_methods = [simulate_spelling_errors, keyboard_augmenter, ocr_simulation, random_character_augmentation, synonym_replacement, antonym_replacement, random_insertion, random_swap, random_deletion, split_augmentation, spelling_augmentation, random_sentence_augmentation]\n",
    "met1= [simulate_spelling_errors, synonym_replacement, random_sentence_augmentation, split_augmentation]\n",
    "\n",
    "negative_class_df = data[data['label'] == 0]\n",
    "\n",
    "num_class_0 = len(negative_class_df)\n",
    "num_class_1 = len(data[data['label'] == 1])\n",
    "\n",
    "class_difference = abs(num_class_0 - num_class_1)\n",
    "\n",
    "num_methods = len(met1)\n",
    "\n",
    "split_dataframes = np.array_split(negative_class_df, num_methods)\n",
    "\n",
    "num_instances_per_method = class_difference // num_methods\n",
    "\n",
    "augmented_dfs = []\n",
    "for method, split_df in zip(met1, split_dataframes):\n",
    "    augmented_df = augment_dataset(\n",
    "        split_df, \n",
    "        text_column='clean_tweet', \n",
    "        method=method, \n",
    "        num_augmented_instances=num_instances_per_method\n",
    "    )\n",
    "    augmented_df['label'] = 0\n",
    "    augmented_dfs.append(augmented_df)\n",
    "\n",
    "final_augmented_df = pd.concat(augmented_dfs, ignore_index=True)\n",
    "\n",
    "final = pd.concat([data, final_augmented_df], ignore_index=True)\n",
    "\n",
    "print(final)\n"
   ]
  },
  {
   "cell_type": "code",
   "execution_count": 39,
   "metadata": {},
   "outputs": [
    {
     "data": {
      "image/png": "[encoded data removed]",
      "text/plain": [
       "<Figure size 640x480 with 1 Axes>"
      ]
     },
     "metadata": {},
     "output_type": "display_data"
    }
   ],
   "source": [
    "plot_distribution(final, 'label')"
   ]
  },
  {
   "cell_type": "code",
   "execution_count": 40,
   "metadata": {},
   "outputs": [
    {
     "name": "stdout",
     "output_type": "stream",
     "text": [
      "19189 19190\n"
     ]
    }
   ],
   "source": [
    "num_class_0f = len(final[final['label'] == 0])\n",
    "num_class_1f = len(final[final['label'] == 1])\n",
    "\n",
    "print(num_class_0f, num_class_1f)"
   ]
  },
  {
   "cell_type": "code",
   "execution_count": 41,
   "metadata": {},
   "outputs": [
    {
     "data": {
      "text/html": [
       "<div>\n",
       "<style scoped>\n",
       "    .dataframe tbody tr th:only-of-type {\n",
       "        vertical-align: middle;\n",
       "    }\n",
       "\n",
       "    .dataframe tbody tr th {\n",
       "        vertical-align: top;\n",
       "    }\n",
       "\n",
       "    .dataframe thead th {\n",
       "        text-align: right;\n",
       "    }\n",
       "</style>\n",
       "<table border=\"1\" class=\"dataframe\">\n",
       "  <thead>\n",
       "    <tr style=\"text-align: right;\">\n",
       "      <th></th>\n",
       "      <th>tweet</th>\n",
       "      <th>label</th>\n",
       "      <th>clean_tweet</th>\n",
       "    </tr>\n",
       "  </thead>\n",
       "  <tbody>\n",
       "    <tr>\n",
       "      <th>0</th>\n",
       "      <td>!!! RT @mayasolovely: As a woman you shouldn't...</td>\n",
       "      <td>0</td>\n",
       "      <td>rt mayasolovely woman complain cleaning house ...</td>\n",
       "    </tr>\n",
       "    <tr>\n",
       "      <th>1</th>\n",
       "      <td>!!!!! RT @mleew17: boy dats cold...tyga dwn ba...</td>\n",
       "      <td>1</td>\n",
       "      <td>rt mleew boy dat cold tyga dwn bad cuffin dat ...</td>\n",
       "    </tr>\n",
       "    <tr>\n",
       "      <th>2</th>\n",
       "      <td>!!!!!!! RT @UrKindOfBrand Dawg!!!! RT @80sbaby...</td>\n",
       "      <td>1</td>\n",
       "      <td>rt urkindofbrand dawg rt sbaby life ever fuck ...</td>\n",
       "    </tr>\n",
       "    <tr>\n",
       "      <th>3</th>\n",
       "      <td>!!!!!!!!! RT @C_G_Anderson: @viva_based she lo...</td>\n",
       "      <td>1</td>\n",
       "      <td>rt c g anderson viva based look like tranny</td>\n",
       "    </tr>\n",
       "    <tr>\n",
       "      <th>4</th>\n",
       "      <td>!!!!!!!!!!!!! RT @ShenikaRoberts: The shit you...</td>\n",
       "      <td>1</td>\n",
       "      <td>rt shenikaroberts shit hear might true might f...</td>\n",
       "    </tr>\n",
       "    <tr>\n",
       "      <th>...</th>\n",
       "      <td>...</td>\n",
       "      <td>...</td>\n",
       "      <td>...</td>\n",
       "    </tr>\n",
       "    <tr>\n",
       "      <th>38374</th>\n",
       "      <td>NaN</td>\n",
       "      <td>0</td>\n",
       "      <td>rt cw issi beany l ife</td>\n",
       "    </tr>\n",
       "    <tr>\n",
       "      <th>38375</th>\n",
       "      <td>NaN</td>\n",
       "      <td>0</td>\n",
       "      <td>clean dead bir d piece gla ss</td>\n",
       "    </tr>\n",
       "    <tr>\n",
       "      <th>38376</th>\n",
       "      <td>NaN</td>\n",
       "      <td>0</td>\n",
       "      <td>rt goddesslaney lajouetreine give sta tement t...</td>\n",
       "    </tr>\n",
       "    <tr>\n",
       "      <th>38377</th>\n",
       "      <td>NaN</td>\n",
       "      <td>0</td>\n",
       "      <td>rt yankeeswfan one scout said prado first team...</td>\n",
       "    </tr>\n",
       "    <tr>\n",
       "      <th>38378</th>\n",
       "      <td>NaN</td>\n",
       "      <td>0</td>\n",
       "      <td>rt tumblrfunniest throw aw ay pa perball perfe...</td>\n",
       "    </tr>\n",
       "  </tbody>\n",
       "</table>\n",
       "<p>38379 rows × 3 columns</p>\n",
       "</div>"
      ],
      "text/plain": [
       "                                                   tweet  label  \\\n",
       "0      !!! RT @mayasolovely: As a woman you shouldn't...      0   \n",
       "1      !!!!! RT @mleew17: boy dats cold...tyga dwn ba...      1   \n",
       "2      !!!!!!! RT @UrKindOfBrand Dawg!!!! RT @80sbaby...      1   \n",
       "3      !!!!!!!!! RT @C_G_Anderson: @viva_based she lo...      1   \n",
       "4      !!!!!!!!!!!!! RT @ShenikaRoberts: The shit you...      1   \n",
       "...                                                  ...    ...   \n",
       "38374                                                NaN      0   \n",
       "38375                                                NaN      0   \n",
       "38376                                                NaN      0   \n",
       "38377                                                NaN      0   \n",
       "38378                                                NaN      0   \n",
       "\n",
       "                                             clean_tweet  \n",
       "0      rt mayasolovely woman complain cleaning house ...  \n",
       "1      rt mleew boy dat cold tyga dwn bad cuffin dat ...  \n",
       "2      rt urkindofbrand dawg rt sbaby life ever fuck ...  \n",
       "3            rt c g anderson viva based look like tranny  \n",
       "4      rt shenikaroberts shit hear might true might f...  \n",
       "...                                                  ...  \n",
       "38374                             rt cw issi beany l ife  \n",
       "38375                      clean dead bir d piece gla ss  \n",
       "38376  rt goddesslaney lajouetreine give sta tement t...  \n",
       "38377  rt yankeeswfan one scout said prado first team...  \n",
       "38378  rt tumblrfunniest throw aw ay pa perball perfe...  \n",
       "\n",
       "[38379 rows x 3 columns]"
      ]
     },
     "execution_count": 41,
     "metadata": {},
     "output_type": "execute_result"
    }
   ],
   "source": [
    "final = pd.concat([data, final_augmented_df], ignore_index=True)\n",
    "df_augmented_set1 = final\n",
    "df_augmented_set1"
   ]
  },
  {
   "cell_type": "code",
   "execution_count": 42,
   "metadata": {},
   "outputs": [
    {
     "name": "stdout",
     "output_type": "stream",
     "text": [
      "Logistička regresija: \n",
      "Izveštaj o klasifikaciji:\n",
      "              precision    recall  f1-score   support\n",
      "\n",
      "           0       0.90      0.93      0.91      3877\n",
      "           1       0.92      0.89      0.91      3799\n",
      "\n",
      "    accuracy                           0.91      7676\n",
      "   macro avg       0.91      0.91      0.91      7676\n",
      "weighted avg       0.91      0.91      0.91      7676\n",
      "\n",
      "Matrica konfuzije:\n",
      "[[3588  289]\n",
      " [ 406 3393]]\n",
      "SVM: \n",
      "Izveštaj o klasifikaciji:\n",
      "              precision    recall  f1-score   support\n",
      "\n",
      "           0       0.91      0.95      0.93      3877\n",
      "           1       0.95      0.90      0.92      3799\n",
      "\n",
      "    accuracy                           0.93      7676\n",
      "   macro avg       0.93      0.93      0.93      7676\n",
      "weighted avg       0.93      0.93      0.93      7676\n",
      "\n",
      "Matrica konfuzije:\n",
      "[[3678  199]\n",
      " [ 361 3438]]\n",
      "Naive Bayes: \n",
      "Izveštaj o klasifikaciji:\n",
      "              precision    recall  f1-score   support\n",
      "\n",
      "           0       0.89      0.81      0.85      3877\n",
      "           1       0.83      0.90      0.86      3799\n",
      "\n",
      "    accuracy                           0.86      7676\n",
      "   macro avg       0.86      0.86      0.86      7676\n",
      "weighted avg       0.86      0.86      0.86      7676\n",
      "\n",
      "Matrica konfuzije:\n",
      "[[3156  721]\n",
      " [ 386 3413]]\n",
      "LSTM: \n"
     ]
    },
    {
     "name": "stderr",
     "output_type": "stream",
     "text": [
      "c:\\Users\\Kaca\\Desktop\\Master\\Prikupljanje i predobrada podataka za mašinsko učenje\\Seminarski 2\\predobrada\\Lib\\site-packages\\keras\\src\\layers\\core\\embedding.py:90: UserWarning: Argument `input_length` is deprecated. Just remove it.\n",
      "  warnings.warn(\n"
     ]
    },
    {
     "name": "stdout",
     "output_type": "stream",
     "text": [
      "Epoch 1/5\n",
      "\u001b[1m480/480\u001b[0m \u001b[32m━━━━━━━━━━━━━━━━━━━━\u001b[0m\u001b[37m\u001b[0m \u001b[1m90s\u001b[0m 179ms/step - accuracy: 0.8369 - loss: 0.3889 - val_accuracy: 0.9009 - val_loss: 0.2715\n",
      "Epoch 2/5\n",
      "\u001b[1m480/480\u001b[0m \u001b[32m━━━━━━━━━━━━━━━━━━━━\u001b[0m\u001b[37m\u001b[0m \u001b[1m86s\u001b[0m 178ms/step - accuracy: 0.9239 - loss: 0.2140 - val_accuracy: 0.9141 - val_loss: 0.2317\n",
      "Epoch 3/5\n",
      "\u001b[1m480/480\u001b[0m \u001b[32m━━━━━━━━━━━━━━━━━━━━\u001b[0m\u001b[37m\u001b[0m \u001b[1m86s\u001b[0m 178ms/step - accuracy: 0.9390 - loss: 0.1667 - val_accuracy: 0.9204 - val_loss: 0.2157\n",
      "Epoch 4/5\n",
      "\u001b[1m480/480\u001b[0m \u001b[32m━━━━━━━━━━━━━━━━━━━━\u001b[0m\u001b[37m\u001b[0m \u001b[1m89s\u001b[0m 185ms/step - accuracy: 0.9524 - loss: 0.1276 - val_accuracy: 0.9222 - val_loss: 0.2201\n",
      "Epoch 5/5\n",
      "\u001b[1m480/480\u001b[0m \u001b[32m━━━━━━━━━━━━━━━━━━━━\u001b[0m\u001b[37m\u001b[0m \u001b[1m88s\u001b[0m 184ms/step - accuracy: 0.9610 - loss: 0.1034 - val_accuracy: 0.9247 - val_loss: 0.2291\n",
      "\u001b[1m240/240\u001b[0m \u001b[32m━━━━━━━━━━━━━━━━━━━━\u001b[0m\u001b[37m\u001b[0m \u001b[1m8s\u001b[0m 34ms/step - accuracy: 0.9218 - loss: 0.2388\n",
      "LSTM Test Accuracy: 0.9247003793716431\n",
      "\u001b[1m240/240\u001b[0m \u001b[32m━━━━━━━━━━━━━━━━━━━━\u001b[0m\u001b[37m\u001b[0m \u001b[1m9s\u001b[0m 36ms/step\n",
      "Izveštaj o klasifikaciji:\n",
      "              precision    recall  f1-score   support\n",
      "\n",
      "           0       0.91      0.94      0.93      3877\n",
      "           1       0.94      0.91      0.92      3799\n",
      "\n",
      "    accuracy                           0.92      7676\n",
      "   macro avg       0.93      0.92      0.92      7676\n",
      "weighted avg       0.93      0.92      0.92      7676\n",
      "\n",
      "Matrica konfuzije:\n",
      "[[3643  234]\n",
      " [ 344 3455]]\n",
      "CNN: \n",
      "Epoch 1/5\n"
     ]
    },
    {
     "name": "stderr",
     "output_type": "stream",
     "text": [
      "c:\\Users\\Kaca\\Desktop\\Master\\Prikupljanje i predobrada podataka za mašinsko učenje\\Seminarski 2\\predobrada\\Lib\\site-packages\\keras\\src\\layers\\core\\embedding.py:90: UserWarning: Argument `input_length` is deprecated. Just remove it.\n",
      "  warnings.warn(\n"
     ]
    },
    {
     "name": "stdout",
     "output_type": "stream",
     "text": [
      "\u001b[1m480/480\u001b[0m \u001b[32m━━━━━━━━━━━━━━━━━━━━\u001b[0m\u001b[37m\u001b[0m \u001b[1m37s\u001b[0m 74ms/step - accuracy: 0.8091 - loss: 0.4231 - val_accuracy: 0.9113 - val_loss: 0.2518\n",
      "Epoch 2/5\n",
      "\u001b[1m480/480\u001b[0m \u001b[32m━━━━━━━━━━━━━━━━━━━━\u001b[0m\u001b[37m\u001b[0m \u001b[1m35s\u001b[0m 73ms/step - accuracy: 0.9315 - loss: 0.1969 - val_accuracy: 0.9188 - val_loss: 0.2305\n",
      "Epoch 3/5\n",
      "\u001b[1m480/480\u001b[0m \u001b[32m━━━━━━━━━━━━━━━━━━━━\u001b[0m\u001b[37m\u001b[0m \u001b[1m35s\u001b[0m 73ms/step - accuracy: 0.9601 - loss: 0.1192 - val_accuracy: 0.9145 - val_loss: 0.2489\n",
      "Epoch 4/5\n",
      "\u001b[1m480/480\u001b[0m \u001b[32m━━━━━━━━━━━━━━━━━━━━\u001b[0m\u001b[37m\u001b[0m \u001b[1m35s\u001b[0m 74ms/step - accuracy: 0.9786 - loss: 0.0673 - val_accuracy: 0.9161 - val_loss: 0.2939\n",
      "Epoch 5/5\n",
      "\u001b[1m480/480\u001b[0m \u001b[32m━━━━━━━━━━━━━━━━━━━━\u001b[0m\u001b[37m\u001b[0m \u001b[1m36s\u001b[0m 74ms/step - accuracy: 0.9867 - loss: 0.0408 - val_accuracy: 0.9131 - val_loss: 0.3452\n",
      "\u001b[1m240/240\u001b[0m \u001b[32m━━━━━━━━━━━━━━━━━━━━\u001b[0m\u001b[37m\u001b[0m \u001b[1m2s\u001b[0m 7ms/step - accuracy: 0.9104 - loss: 0.3644\n",
      "CNN Test Accuracy: 0.9131057858467102\n",
      "\u001b[1m240/240\u001b[0m \u001b[32m━━━━━━━━━━━━━━━━━━━━\u001b[0m\u001b[37m\u001b[0m \u001b[1m2s\u001b[0m 7ms/step\n",
      "Izveštaj o klasifikaciji:\n",
      "              precision    recall  f1-score   support\n",
      "\n",
      "           0       0.90      0.93      0.92      3877\n",
      "           1       0.93      0.89      0.91      3799\n",
      "\n",
      "    accuracy                           0.91      7676\n",
      "   macro avg       0.91      0.91      0.91      7676\n",
      "weighted avg       0.91      0.91      0.91      7676\n",
      "\n",
      "Matrica konfuzije:\n",
      "[[3624  253]\n",
      " [ 414 3385]]\n"
     ]
    }
   ],
   "source": [
    "X_aug1 = df_augmented_set1['clean_tweet']\n",
    "y_aug1 = df_augmented_set1['label']\n",
    "\n",
    "run(X_aug1, y_aug1)"
   ]
  },
  {
   "cell_type": "markdown",
   "metadata": {},
   "source": [
    "#### Augmentirani dataset 2"
   ]
  },
  {
   "cell_type": "code",
   "execution_count": 34,
   "metadata": {},
   "outputs": [],
   "source": [
    "augmented_data = pd.read_csv('augmented_train.csv')\n",
    "augmented_df2 = augmented_data[['clean_tweet', 'label']]"
   ]
  },
  {
   "cell_type": "code",
   "execution_count": 35,
   "metadata": {},
   "outputs": [
    {
     "name": "stdout",
     "output_type": "stream",
     "text": [
      "18593 19190\n"
     ]
    }
   ],
   "source": [
    "num_class_0f = len(augmented_df2[augmented_df2['label'] == 0])\n",
    "num_class_1f = len(augmented_df2[augmented_df2['label'] == 1])\n",
    "\n",
    "print(num_class_0f, num_class_1f)"
   ]
  },
  {
   "cell_type": "code",
   "execution_count": 36,
   "metadata": {},
   "outputs": [
    {
     "data": {
      "image/png": "[encoded data removed]",
      "text/plain": [
       "<Figure size 640x480 with 1 Axes>"
      ]
     },
     "metadata": {},
     "output_type": "display_data"
    }
   ],
   "source": [
    "plot_distribution(augmented_df2, 'label')"
   ]
  },
  {
   "cell_type": "code",
   "execution_count": 37,
   "metadata": {},
   "outputs": [
    {
     "name": "stdout",
     "output_type": "stream",
     "text": [
      "Logistička regresija: \n",
      "Izveštaj o klasifikaciji:\n",
      "              precision    recall  f1-score   support\n",
      "\n",
      "           0       0.90      0.92      0.91      3738\n",
      "           1       0.92      0.90      0.91      3819\n",
      "\n",
      "    accuracy                           0.91      7557\n",
      "   macro avg       0.91      0.91      0.91      7557\n",
      "weighted avg       0.91      0.91      0.91      7557\n",
      "\n",
      "Matrica konfuzije:\n",
      "[[3429  309]\n",
      " [ 392 3427]]\n",
      "SVM: \n",
      "Izveštaj o klasifikaciji:\n",
      "              precision    recall  f1-score   support\n",
      "\n",
      "           0       0.92      0.95      0.93      3738\n",
      "           1       0.95      0.92      0.93      3819\n",
      "\n",
      "    accuracy                           0.93      7557\n",
      "   macro avg       0.93      0.93      0.93      7557\n",
      "weighted avg       0.93      0.93      0.93      7557\n",
      "\n",
      "Matrica konfuzije:\n",
      "[[3541  197]\n",
      " [ 323 3496]]\n",
      "Naive Bayes: \n",
      "Izveštaj o klasifikaciji:\n",
      "              precision    recall  f1-score   support\n",
      "\n",
      "           0       0.90      0.81      0.85      3738\n",
      "           1       0.83      0.92      0.87      3819\n",
      "\n",
      "    accuracy                           0.86      7557\n",
      "   macro avg       0.87      0.86      0.86      7557\n",
      "weighted avg       0.87      0.86      0.86      7557\n",
      "\n",
      "Matrica konfuzije:\n",
      "[[3020  718]\n",
      " [ 323 3496]]\n",
      "LSTM: \n",
      "Epoch 1/5\n"
     ]
    },
    {
     "name": "stderr",
     "output_type": "stream",
     "text": [
      "c:\\Users\\Kaca\\Desktop\\Master\\Prikupljanje i predobrada podataka za mašinsko učenje\\Seminarski 2\\predobrada\\Lib\\site-packages\\keras\\src\\layers\\core\\embedding.py:90: UserWarning: Argument `input_length` is deprecated. Just remove it.\n",
      "  warnings.warn(\n"
     ]
    },
    {
     "name": "stdout",
     "output_type": "stream",
     "text": [
      "\u001b[1m473/473\u001b[0m \u001b[32m━━━━━━━━━━━━━━━━━━━━\u001b[0m\u001b[37m\u001b[0m \u001b[1m100s\u001b[0m 203ms/step - accuracy: 0.8249 - loss: 0.3999 - val_accuracy: 0.9053 - val_loss: 0.2553\n",
      "Epoch 2/5\n",
      "\u001b[1m473/473\u001b[0m \u001b[32m━━━━━━━━━━━━━━━━━━━━\u001b[0m\u001b[37m\u001b[0m \u001b[1m90s\u001b[0m 190ms/step - accuracy: 0.9189 - loss: 0.2219 - val_accuracy: 0.9063 - val_loss: 0.2400\n",
      "Epoch 3/5\n",
      "\u001b[1m473/473\u001b[0m \u001b[32m━━━━━━━━━━━━━━━━━━━━\u001b[0m\u001b[37m\u001b[0m \u001b[1m157s\u001b[0m 222ms/step - accuracy: 0.9352 - loss: 0.1736 - val_accuracy: 0.9153 - val_loss: 0.2222\n",
      "Epoch 4/5\n",
      "\u001b[1m473/473\u001b[0m \u001b[32m━━━━━━━━━━━━━━━━━━━━\u001b[0m\u001b[37m\u001b[0m \u001b[1m100s\u001b[0m 211ms/step - accuracy: 0.9468 - loss: 0.1387 - val_accuracy: 0.9197 - val_loss: 0.2176\n",
      "Epoch 5/5\n",
      "\u001b[1m473/473\u001b[0m \u001b[32m━━━━━━━━━━━━━━━━━━━━\u001b[0m\u001b[37m\u001b[0m \u001b[1m82s\u001b[0m 172ms/step - accuracy: 0.9585 - loss: 0.1094 - val_accuracy: 0.9198 - val_loss: 0.2323\n",
      "\u001b[1m237/237\u001b[0m \u001b[32m━━━━━━━━━━━━━━━━━━━━\u001b[0m\u001b[37m\u001b[0m \u001b[1m8s\u001b[0m 34ms/step - accuracy: 0.9209 - loss: 0.2262\n",
      "LSTM Test Accuracy: 0.9198094606399536\n",
      "\u001b[1m237/237\u001b[0m \u001b[32m━━━━━━━━━━━━━━━━━━━━\u001b[0m\u001b[37m\u001b[0m \u001b[1m9s\u001b[0m 36ms/step\n",
      "Izveštaj o klasifikaciji:\n",
      "              precision    recall  f1-score   support\n",
      "\n",
      "           0       0.92      0.92      0.92      3738\n",
      "           1       0.92      0.92      0.92      3819\n",
      "\n",
      "    accuracy                           0.92      7557\n",
      "   macro avg       0.92      0.92      0.92      7557\n",
      "weighted avg       0.92      0.92      0.92      7557\n",
      "\n",
      "Matrica konfuzije:\n",
      "[[3427  311]\n",
      " [ 295 3524]]\n",
      "CNN: \n",
      "Epoch 1/5\n"
     ]
    },
    {
     "name": "stderr",
     "output_type": "stream",
     "text": [
      "c:\\Users\\Kaca\\Desktop\\Master\\Prikupljanje i predobrada podataka za mašinsko učenje\\Seminarski 2\\predobrada\\Lib\\site-packages\\keras\\src\\layers\\core\\embedding.py:90: UserWarning: Argument `input_length` is deprecated. Just remove it.\n",
      "  warnings.warn(\n"
     ]
    },
    {
     "name": "stdout",
     "output_type": "stream",
     "text": [
      "\u001b[1m473/473\u001b[0m \u001b[32m━━━━━━━━━━━━━━━━━━━━\u001b[0m\u001b[37m\u001b[0m \u001b[1m34s\u001b[0m 67ms/step - accuracy: 0.8076 - loss: 0.4229 - val_accuracy: 0.9063 - val_loss: 0.2527\n",
      "Epoch 2/5\n",
      "\u001b[1m473/473\u001b[0m \u001b[32m━━━━━━━━━━━━━━━━━━━━\u001b[0m\u001b[37m\u001b[0m \u001b[1m30s\u001b[0m 63ms/step - accuracy: 0.9292 - loss: 0.1939 - val_accuracy: 0.9206 - val_loss: 0.2157\n",
      "Epoch 3/5\n",
      "\u001b[1m473/473\u001b[0m \u001b[32m━━━━━━━━━━━━━━━━━━━━\u001b[0m\u001b[37m\u001b[0m \u001b[1m33s\u001b[0m 70ms/step - accuracy: 0.9625 - loss: 0.1084 - val_accuracy: 0.9218 - val_loss: 0.2300\n",
      "Epoch 4/5\n",
      "\u001b[1m473/473\u001b[0m \u001b[32m━━━━━━━━━━━━━━━━━━━━\u001b[0m\u001b[37m\u001b[0m \u001b[1m35s\u001b[0m 74ms/step - accuracy: 0.9806 - loss: 0.0604 - val_accuracy: 0.9218 - val_loss: 0.2631\n",
      "Epoch 5/5\n",
      "\u001b[1m473/473\u001b[0m \u001b[32m━━━━━━━━━━━━━━━━━━━━\u001b[0m\u001b[37m\u001b[0m \u001b[1m48s\u001b[0m 101ms/step - accuracy: 0.9868 - loss: 0.0394 - val_accuracy: 0.9242 - val_loss: 0.2891\n",
      "\u001b[1m237/237\u001b[0m \u001b[32m━━━━━━━━━━━━━━━━━━━━\u001b[0m\u001b[37m\u001b[0m \u001b[1m2s\u001b[0m 7ms/step - accuracy: 0.9257 - loss: 0.2888\n",
      "CNN Test Accuracy: 0.9241762757301331\n",
      "\u001b[1m237/237\u001b[0m \u001b[32m━━━━━━━━━━━━━━━━━━━━\u001b[0m\u001b[37m\u001b[0m \u001b[1m2s\u001b[0m 7ms/step\n",
      "Izveštaj o klasifikaciji:\n",
      "              precision    recall  f1-score   support\n",
      "\n",
      "           0       0.91      0.93      0.92      3738\n",
      "           1       0.93      0.91      0.92      3819\n",
      "\n",
      "    accuracy                           0.92      7557\n",
      "   macro avg       0.92      0.92      0.92      7557\n",
      "weighted avg       0.92      0.92      0.92      7557\n",
      "\n",
      "Matrica konfuzije:\n",
      "[[3495  243]\n",
      " [ 330 3489]]\n"
     ]
    }
   ],
   "source": [
    "X_aug2 = augmented_df2['clean_tweet']\n",
    "y_aug2 = augmented_df2['label']\n",
    "\n",
    "run(X_aug2, y_aug2)\n"
   ]
  }
 ],
 "metadata": {
  "kernelspec": {
   "display_name": "predobrada",
   "language": "python",
   "name": "python3"
  },
  "language_info": {
   "codemirror_mode": {
    "name": "ipython",
    "version": 3
   },
   "file_extension": ".py",
   "mimetype": "text/x-python",
   "name": "python",
   "nbconvert_exporter": "python",
   "pygments_lexer": "ipython3",
   "version": "3.11.0"
  }
 },
 "nbformat": 4,
 "nbformat_minor": 2
}
